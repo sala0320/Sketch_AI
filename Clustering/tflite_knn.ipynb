{
  "nbformat": 4,
  "nbformat_minor": 0,
  "metadata": {
    "accelerator": "GPU",
    "colab": {
      "name": "tflite_knn.ipynb",
      "provenance": [],
      "collapsed_sections": []
    },
    "kernelspec": {
      "display_name": "Python 3",
      "name": "python3"
    },
    "language_info": {
      "name": "python"
    },
    "widgets": {
      "application/vnd.jupyter.widget-state+json": {
        "749b16c94e9348a79c19a1128bcaf423": {
          "model_module": "@jupyter-widgets/controls",
          "model_name": "HBoxModel",
          "model_module_version": "1.5.0",
          "state": {
            "_dom_classes": [],
            "_model_module": "@jupyter-widgets/controls",
            "_model_module_version": "1.5.0",
            "_model_name": "HBoxModel",
            "_view_count": null,
            "_view_module": "@jupyter-widgets/controls",
            "_view_module_version": "1.5.0",
            "_view_name": "HBoxView",
            "box_style": "",
            "children": [
              "IPY_MODEL_83dddecc26244d619f1bed5147cb7522",
              "IPY_MODEL_da01953e0ee24f729f9aca270340da1c"
            ],
            "layout": "IPY_MODEL_1893ce71759c410aa8d3d329d49e9397"
          }
        },
        "83dddecc26244d619f1bed5147cb7522": {
          "model_module": "@jupyter-widgets/controls",
          "model_name": "FloatProgressModel",
          "model_module_version": "1.5.0",
          "state": {
            "_dom_classes": [],
            "_model_module": "@jupyter-widgets/controls",
            "_model_module_version": "1.5.0",
            "_model_name": "FloatProgressModel",
            "_view_count": null,
            "_view_module": "@jupyter-widgets/controls",
            "_view_module_version": "1.5.0",
            "_view_name": "ProgressView",
            "bar_style": "success",
            "description": "100%",
            "description_tooltip": null,
            "layout": "IPY_MODEL_d75c32cfcf394cc691f795a68d641d57",
            "max": 21388428,
            "min": 0,
            "orientation": "horizontal",
            "style": "IPY_MODEL_3cdbe7df85204df18249519b68bc2ae8",
            "value": 21388428
          }
        },
        "da01953e0ee24f729f9aca270340da1c": {
          "model_module": "@jupyter-widgets/controls",
          "model_name": "HTMLModel",
          "model_module_version": "1.5.0",
          "state": {
            "_dom_classes": [],
            "_model_module": "@jupyter-widgets/controls",
            "_model_module_version": "1.5.0",
            "_model_name": "HTMLModel",
            "_view_count": null,
            "_view_module": "@jupyter-widgets/controls",
            "_view_module_version": "1.5.0",
            "_view_name": "HTMLView",
            "description": "",
            "description_tooltip": null,
            "layout": "IPY_MODEL_c8635441afd6458ebbde1c42dff078d0",
            "placeholder": "​",
            "style": "IPY_MODEL_bad8f8bf5cd74befb97d8f856bb399b4",
            "value": " 20.4M/20.4M [00:01&lt;00:00, 19.8MB/s]"
          }
        },
        "1893ce71759c410aa8d3d329d49e9397": {
          "model_module": "@jupyter-widgets/base",
          "model_name": "LayoutModel",
          "model_module_version": "1.2.0",
          "state": {
            "_model_module": "@jupyter-widgets/base",
            "_model_module_version": "1.2.0",
            "_model_name": "LayoutModel",
            "_view_count": null,
            "_view_module": "@jupyter-widgets/base",
            "_view_module_version": "1.2.0",
            "_view_name": "LayoutView",
            "align_content": null,
            "align_items": null,
            "align_self": null,
            "border": null,
            "bottom": null,
            "display": null,
            "flex": null,
            "flex_flow": null,
            "grid_area": null,
            "grid_auto_columns": null,
            "grid_auto_flow": null,
            "grid_auto_rows": null,
            "grid_column": null,
            "grid_gap": null,
            "grid_row": null,
            "grid_template_areas": null,
            "grid_template_columns": null,
            "grid_template_rows": null,
            "height": null,
            "justify_content": null,
            "justify_items": null,
            "left": null,
            "margin": null,
            "max_height": null,
            "max_width": null,
            "min_height": null,
            "min_width": null,
            "object_fit": null,
            "object_position": null,
            "order": null,
            "overflow": null,
            "overflow_x": null,
            "overflow_y": null,
            "padding": null,
            "right": null,
            "top": null,
            "visibility": null,
            "width": null
          }
        },
        "d75c32cfcf394cc691f795a68d641d57": {
          "model_module": "@jupyter-widgets/base",
          "model_name": "LayoutModel",
          "model_module_version": "1.2.0",
          "state": {
            "_model_module": "@jupyter-widgets/base",
            "_model_module_version": "1.2.0",
            "_model_name": "LayoutModel",
            "_view_count": null,
            "_view_module": "@jupyter-widgets/base",
            "_view_module_version": "1.2.0",
            "_view_name": "LayoutView",
            "align_content": null,
            "align_items": null,
            "align_self": null,
            "border": null,
            "bottom": null,
            "display": null,
            "flex": null,
            "flex_flow": null,
            "grid_area": null,
            "grid_auto_columns": null,
            "grid_auto_flow": null,
            "grid_auto_rows": null,
            "grid_column": null,
            "grid_gap": null,
            "grid_row": null,
            "grid_template_areas": null,
            "grid_template_columns": null,
            "grid_template_rows": null,
            "height": null,
            "justify_content": null,
            "justify_items": null,
            "left": null,
            "margin": null,
            "max_height": null,
            "max_width": null,
            "min_height": null,
            "min_width": null,
            "object_fit": null,
            "object_position": null,
            "order": null,
            "overflow": null,
            "overflow_x": null,
            "overflow_y": null,
            "padding": null,
            "right": null,
            "top": null,
            "visibility": null,
            "width": null
          }
        },
        "3cdbe7df85204df18249519b68bc2ae8": {
          "model_module": "@jupyter-widgets/controls",
          "model_name": "ProgressStyleModel",
          "model_module_version": "1.5.0",
          "state": {
            "_model_module": "@jupyter-widgets/controls",
            "_model_module_version": "1.5.0",
            "_model_name": "ProgressStyleModel",
            "_view_count": null,
            "_view_module": "@jupyter-widgets/base",
            "_view_module_version": "1.2.0",
            "_view_name": "StyleView",
            "bar_color": null,
            "description_width": "initial"
          }
        },
        "c8635441afd6458ebbde1c42dff078d0": {
          "model_module": "@jupyter-widgets/base",
          "model_name": "LayoutModel",
          "model_module_version": "1.2.0",
          "state": {
            "_model_module": "@jupyter-widgets/base",
            "_model_module_version": "1.2.0",
            "_model_name": "LayoutModel",
            "_view_count": null,
            "_view_module": "@jupyter-widgets/base",
            "_view_module_version": "1.2.0",
            "_view_name": "LayoutView",
            "align_content": null,
            "align_items": null,
            "align_self": null,
            "border": null,
            "bottom": null,
            "display": null,
            "flex": null,
            "flex_flow": null,
            "grid_area": null,
            "grid_auto_columns": null,
            "grid_auto_flow": null,
            "grid_auto_rows": null,
            "grid_column": null,
            "grid_gap": null,
            "grid_row": null,
            "grid_template_areas": null,
            "grid_template_columns": null,
            "grid_template_rows": null,
            "height": null,
            "justify_content": null,
            "justify_items": null,
            "left": null,
            "margin": null,
            "max_height": null,
            "max_width": null,
            "min_height": null,
            "min_width": null,
            "object_fit": null,
            "object_position": null,
            "order": null,
            "overflow": null,
            "overflow_x": null,
            "overflow_y": null,
            "padding": null,
            "right": null,
            "top": null,
            "visibility": null,
            "width": null
          }
        },
        "bad8f8bf5cd74befb97d8f856bb399b4": {
          "model_module": "@jupyter-widgets/controls",
          "model_name": "DescriptionStyleModel",
          "model_module_version": "1.5.0",
          "state": {
            "_model_module": "@jupyter-widgets/controls",
            "_model_module_version": "1.5.0",
            "_model_name": "DescriptionStyleModel",
            "_view_count": null,
            "_view_module": "@jupyter-widgets/base",
            "_view_module_version": "1.2.0",
            "_view_name": "StyleView",
            "description_width": ""
          }
        }
      }
    }
  },
  "cells": [
    {
      "cell_type": "code",
      "metadata": {
        "id": "1C78Jv5J9Qdn"
      },
      "source": [
        "import tensorflow as tf\n",
        "from PIL import Image\n",
        "import tensorflow_hub as hub\n",
        "from torchvision import transforms\n",
        "import numpy as np"
      ],
      "execution_count": 1,
      "outputs": []
    },
    {
      "cell_type": "markdown",
      "metadata": {
        "id": "ANIpvsL0iIbG"
      },
      "source": [
        "### TensorFlow Hub  \n"
      ]
    },
    {
      "cell_type": "code",
      "metadata": {
        "id": "Qxh4qa8lbU2O"
      },
      "source": [
        "tensor_path = '/content/drive/MyDrive/Colab/Sketch_RNN_Together/tensor/'"
      ],
      "execution_count": null,
      "outputs": []
    },
    {
      "cell_type": "code",
      "metadata": {
        "id": "0WjnWQ5x91Tz"
      },
      "source": [
        "tf_model_path = '/content/drive/MyDrive/Colab/Sketch_RNN_Together/tensor/efficientnet_lite4_feature-vector_2'"
      ],
      "execution_count": null,
      "outputs": []
    },
    {
      "cell_type": "code",
      "metadata": {
        "id": "vnqiModfDu5a"
      },
      "source": [
        "module_spec = hub.load_module_spec(tf_model_path)\n",
        "height, width = hub.get_expected_image_size(module_spec)"
      ],
      "execution_count": null,
      "outputs": []
    },
    {
      "cell_type": "code",
      "metadata": {
        "id": "IvnwHIDiDVVm"
      },
      "source": [
        "tfms = transforms.Compose([transforms.Resize(224), transforms.ToTensor(),\n",
        "            transforms.Normalize([0.485, 0.456, 0.406], [0.229, 0.224, 0.225]),])\n",
        "img = tfms(Image.open('/content/drive/MyDrive/Colab/Sketch_RNN_Together/Dataset/input/eye/eye_input_1.jpg').convert(\"RGB\")).unsqueeze(0)\n",
        "img = tf.reshape(img, [1, 224, 224, 3]) #[batch_size, height, width, 3]"
      ],
      "execution_count": null,
      "outputs": []
    },
    {
      "cell_type": "code",
      "metadata": {
        "colab": {
          "base_uri": "https://localhost:8080/"
        },
        "id": "V2WHTLNxhjdU",
        "outputId": "92566be0-2c6c-4974-b666-7f78fe899e83"
      },
      "source": [
        "obj = hub.load(tf_model_path)\n",
        "img = tf.reshape(img, [1, 224, 224, 3]) #[batch_size, height, width, 3]\n",
        "obj.signatures['default'](img)"
      ],
      "execution_count": null,
      "outputs": [
        {
          "output_type": "execute_result",
          "data": {
            "text/plain": [
              "{'default': <tf.Tensor: shape=(1, 1280), dtype=float32, numpy=\n",
              " array([[0.15732348, 0.01069743, 0.15781823, ..., 0.        , 0.03200955,\n",
              "         0.33155206]], dtype=float32)>}"
            ]
          },
          "metadata": {
            "tags": []
          },
          "execution_count": 41
        }
      ]
    },
    {
      "cell_type": "code",
      "metadata": {
        "colab": {
          "base_uri": "https://localhost:8080/"
        },
        "id": "SnnbU1Gsz14u",
        "outputId": "95db9671-5daa-40ea-ab1a-30ff9f45e0dd"
      },
      "source": [
        "feat = obj.signatures['default'](img)\n",
        "feat.get('default').numpy()"
      ],
      "execution_count": null,
      "outputs": [
        {
          "output_type": "execute_result",
          "data": {
            "text/plain": [
              "array([[0.15732348, 0.01069743, 0.15781823, ..., 0.        , 0.03200955,\n",
              "        0.33155206]], dtype=float32)"
            ]
          },
          "metadata": {
            "tags": []
          },
          "execution_count": 40
        }
      ]
    },
    {
      "cell_type": "markdown",
      "metadata": {
        "id": "y49u5jiK4HiX"
      },
      "source": [
        "### TensorFlow Lite 모델에 메타 데이터 추가  \n",
        "https://www.tensorflow.org/lite/convert/metadata#visualize_the_metadata"
      ]
    },
    {
      "cell_type": "code",
      "metadata": {
        "colab": {
          "base_uri": "https://localhost:8080/"
        },
        "id": "7gJ3EqUL8car",
        "outputId": "a5862067-aa50-4e94-ba54-c32ad5bedf85"
      },
      "source": [
        "!pip install tflite-support"
      ],
      "execution_count": null,
      "outputs": [
        {
          "output_type": "stream",
          "text": [
            "Collecting tflite-support\n",
            "  Downloading tflite_support-0.2.0-cp37-cp37m-manylinux_2_12_x86_64.manylinux2010_x86_64.whl (1.1 MB)\n",
            "\u001b[?25l\r\u001b[K     |▎                               | 10 kB 22.8 MB/s eta 0:00:01\r\u001b[K     |▋                               | 20 kB 26.0 MB/s eta 0:00:01\r\u001b[K     |█                               | 30 kB 26.4 MB/s eta 0:00:01\r\u001b[K     |█▏                              | 40 kB 28.9 MB/s eta 0:00:01\r\u001b[K     |█▌                              | 51 kB 31.5 MB/s eta 0:00:01\r\u001b[K     |█▉                              | 61 kB 34.2 MB/s eta 0:00:01\r\u001b[K     |██▏                             | 71 kB 35.7 MB/s eta 0:00:01\r\u001b[K     |██▍                             | 81 kB 36.8 MB/s eta 0:00:01\r\u001b[K     |██▊                             | 92 kB 38.5 MB/s eta 0:00:01\r\u001b[K     |███                             | 102 kB 39.3 MB/s eta 0:00:01\r\u001b[K     |███▍                            | 112 kB 39.3 MB/s eta 0:00:01\r\u001b[K     |███▋                            | 122 kB 39.3 MB/s eta 0:00:01\r\u001b[K     |████                            | 133 kB 39.3 MB/s eta 0:00:01\r\u001b[K     |████▎                           | 143 kB 39.3 MB/s eta 0:00:01\r\u001b[K     |████▋                           | 153 kB 39.3 MB/s eta 0:00:01\r\u001b[K     |████▉                           | 163 kB 39.3 MB/s eta 0:00:01\r\u001b[K     |█████▏                          | 174 kB 39.3 MB/s eta 0:00:01\r\u001b[K     |█████▌                          | 184 kB 39.3 MB/s eta 0:00:01\r\u001b[K     |█████▊                          | 194 kB 39.3 MB/s eta 0:00:01\r\u001b[K     |██████                          | 204 kB 39.3 MB/s eta 0:00:01\r\u001b[K     |██████▍                         | 215 kB 39.3 MB/s eta 0:00:01\r\u001b[K     |██████▊                         | 225 kB 39.3 MB/s eta 0:00:01\r\u001b[K     |███████                         | 235 kB 39.3 MB/s eta 0:00:01\r\u001b[K     |███████▎                        | 245 kB 39.3 MB/s eta 0:00:01\r\u001b[K     |███████▋                        | 256 kB 39.3 MB/s eta 0:00:01\r\u001b[K     |████████                        | 266 kB 39.3 MB/s eta 0:00:01\r\u001b[K     |████████▏                       | 276 kB 39.3 MB/s eta 0:00:01\r\u001b[K     |████████▌                       | 286 kB 39.3 MB/s eta 0:00:01\r\u001b[K     |████████▉                       | 296 kB 39.3 MB/s eta 0:00:01\r\u001b[K     |█████████▏                      | 307 kB 39.3 MB/s eta 0:00:01\r\u001b[K     |█████████▍                      | 317 kB 39.3 MB/s eta 0:00:01\r\u001b[K     |█████████▊                      | 327 kB 39.3 MB/s eta 0:00:01\r\u001b[K     |██████████                      | 337 kB 39.3 MB/s eta 0:00:01\r\u001b[K     |██████████▍                     | 348 kB 39.3 MB/s eta 0:00:01\r\u001b[K     |██████████▋                     | 358 kB 39.3 MB/s eta 0:00:01\r\u001b[K     |███████████                     | 368 kB 39.3 MB/s eta 0:00:01\r\u001b[K     |███████████▎                    | 378 kB 39.3 MB/s eta 0:00:01\r\u001b[K     |███████████▌                    | 389 kB 39.3 MB/s eta 0:00:01\r\u001b[K     |███████████▉                    | 399 kB 39.3 MB/s eta 0:00:01\r\u001b[K     |████████████▏                   | 409 kB 39.3 MB/s eta 0:00:01\r\u001b[K     |████████████▌                   | 419 kB 39.3 MB/s eta 0:00:01\r\u001b[K     |████████████▊                   | 430 kB 39.3 MB/s eta 0:00:01\r\u001b[K     |█████████████                   | 440 kB 39.3 MB/s eta 0:00:01\r\u001b[K     |█████████████▍                  | 450 kB 39.3 MB/s eta 0:00:01\r\u001b[K     |█████████████▊                  | 460 kB 39.3 MB/s eta 0:00:01\r\u001b[K     |██████████████                  | 471 kB 39.3 MB/s eta 0:00:01\r\u001b[K     |██████████████▎                 | 481 kB 39.3 MB/s eta 0:00:01\r\u001b[K     |██████████████▋                 | 491 kB 39.3 MB/s eta 0:00:01\r\u001b[K     |███████████████                 | 501 kB 39.3 MB/s eta 0:00:01\r\u001b[K     |███████████████▏                | 512 kB 39.3 MB/s eta 0:00:01\r\u001b[K     |███████████████▌                | 522 kB 39.3 MB/s eta 0:00:01\r\u001b[K     |███████████████▉                | 532 kB 39.3 MB/s eta 0:00:01\r\u001b[K     |████████████████▏               | 542 kB 39.3 MB/s eta 0:00:01\r\u001b[K     |████████████████▍               | 552 kB 39.3 MB/s eta 0:00:01\r\u001b[K     |████████████████▊               | 563 kB 39.3 MB/s eta 0:00:01\r\u001b[K     |█████████████████               | 573 kB 39.3 MB/s eta 0:00:01\r\u001b[K     |█████████████████▎              | 583 kB 39.3 MB/s eta 0:00:01\r\u001b[K     |█████████████████▋              | 593 kB 39.3 MB/s eta 0:00:01\r\u001b[K     |██████████████████              | 604 kB 39.3 MB/s eta 0:00:01\r\u001b[K     |██████████████████▎             | 614 kB 39.3 MB/s eta 0:00:01\r\u001b[K     |██████████████████▌             | 624 kB 39.3 MB/s eta 0:00:01\r\u001b[K     |██████████████████▉             | 634 kB 39.3 MB/s eta 0:00:01\r\u001b[K     |███████████████████▏            | 645 kB 39.3 MB/s eta 0:00:01\r\u001b[K     |███████████████████▌            | 655 kB 39.3 MB/s eta 0:00:01\r\u001b[K     |███████████████████▊            | 665 kB 39.3 MB/s eta 0:00:01\r\u001b[K     |████████████████████            | 675 kB 39.3 MB/s eta 0:00:01\r\u001b[K     |████████████████████▍           | 686 kB 39.3 MB/s eta 0:00:01\r\u001b[K     |████████████████████▊           | 696 kB 39.3 MB/s eta 0:00:01\r\u001b[K     |█████████████████████           | 706 kB 39.3 MB/s eta 0:00:01\r\u001b[K     |█████████████████████▎          | 716 kB 39.3 MB/s eta 0:00:01\r\u001b[K     |█████████████████████▋          | 727 kB 39.3 MB/s eta 0:00:01\r\u001b[K     |██████████████████████          | 737 kB 39.3 MB/s eta 0:00:01\r\u001b[K     |██████████████████████▏         | 747 kB 39.3 MB/s eta 0:00:01\r\u001b[K     |██████████████████████▌         | 757 kB 39.3 MB/s eta 0:00:01\r\u001b[K     |██████████████████████▉         | 768 kB 39.3 MB/s eta 0:00:01\r\u001b[K     |███████████████████████         | 778 kB 39.3 MB/s eta 0:00:01\r\u001b[K     |███████████████████████▍        | 788 kB 39.3 MB/s eta 0:00:01\r\u001b[K     |███████████████████████▊        | 798 kB 39.3 MB/s eta 0:00:01\r\u001b[K     |████████████████████████        | 808 kB 39.3 MB/s eta 0:00:01\r\u001b[K     |████████████████████████▎       | 819 kB 39.3 MB/s eta 0:00:01\r\u001b[K     |████████████████████████▋       | 829 kB 39.3 MB/s eta 0:00:01\r\u001b[K     |█████████████████████████       | 839 kB 39.3 MB/s eta 0:00:01\r\u001b[K     |█████████████████████████▎      | 849 kB 39.3 MB/s eta 0:00:01\r\u001b[K     |█████████████████████████▌      | 860 kB 39.3 MB/s eta 0:00:01\r\u001b[K     |█████████████████████████▉      | 870 kB 39.3 MB/s eta 0:00:01\r\u001b[K     |██████████████████████████▏     | 880 kB 39.3 MB/s eta 0:00:01\r\u001b[K     |██████████████████████████▌     | 890 kB 39.3 MB/s eta 0:00:01\r\u001b[K     |██████████████████████████▊     | 901 kB 39.3 MB/s eta 0:00:01\r\u001b[K     |███████████████████████████     | 911 kB 39.3 MB/s eta 0:00:01\r\u001b[K     |███████████████████████████▍    | 921 kB 39.3 MB/s eta 0:00:01\r\u001b[K     |███████████████████████████▊    | 931 kB 39.3 MB/s eta 0:00:01\r\u001b[K     |████████████████████████████    | 942 kB 39.3 MB/s eta 0:00:01\r\u001b[K     |████████████████████████████▎   | 952 kB 39.3 MB/s eta 0:00:01\r\u001b[K     |████████████████████████████▋   | 962 kB 39.3 MB/s eta 0:00:01\r\u001b[K     |████████████████████████████▉   | 972 kB 39.3 MB/s eta 0:00:01\r\u001b[K     |█████████████████████████████▏  | 983 kB 39.3 MB/s eta 0:00:01\r\u001b[K     |█████████████████████████████▌  | 993 kB 39.3 MB/s eta 0:00:01\r\u001b[K     |█████████████████████████████▉  | 1.0 MB 39.3 MB/s eta 0:00:01\r\u001b[K     |██████████████████████████████  | 1.0 MB 39.3 MB/s eta 0:00:01\r\u001b[K     |██████████████████████████████▍ | 1.0 MB 39.3 MB/s eta 0:00:01\r\u001b[K     |██████████████████████████████▊ | 1.0 MB 39.3 MB/s eta 0:00:01\r\u001b[K     |███████████████████████████████ | 1.0 MB 39.3 MB/s eta 0:00:01\r\u001b[K     |███████████████████████████████▎| 1.1 MB 39.3 MB/s eta 0:00:01\r\u001b[K     |███████████████████████████████▋| 1.1 MB 39.3 MB/s eta 0:00:01\r\u001b[K     |████████████████████████████████| 1.1 MB 39.3 MB/s eta 0:00:01\r\u001b[K     |████████████████████████████████| 1.1 MB 39.3 MB/s \n",
            "\u001b[?25hRequirement already satisfied: numpy>=1.16.0 in /usr/local/lib/python3.7/dist-packages (from tflite-support) (1.19.5)\n",
            "Collecting pybind11>=2.6.0\n",
            "  Downloading pybind11-2.7.1-py2.py3-none-any.whl (200 kB)\n",
            "\u001b[K     |████████████████████████████████| 200 kB 64.6 MB/s \n",
            "\u001b[?25hRequirement already satisfied: absl-py>=0.7.0 in /usr/local/lib/python3.7/dist-packages (from tflite-support) (0.12.0)\n",
            "Requirement already satisfied: flatbuffers<2,>=1.12 in /usr/local/lib/python3.7/dist-packages (from tflite-support) (1.12)\n",
            "Requirement already satisfied: six in /usr/local/lib/python3.7/dist-packages (from absl-py>=0.7.0->tflite-support) (1.15.0)\n",
            "Installing collected packages: pybind11, tflite-support\n",
            "Successfully installed pybind11-2.7.1 tflite-support-0.2.0\n"
          ],
          "name": "stdout"
        }
      ]
    },
    {
      "cell_type": "code",
      "metadata": {
        "id": "Eao4f7Dg4G46"
      },
      "source": [
        "from tflite_support import flatbuffers\n",
        "from tflite_support import metadata as _metadata\n",
        "from tflite_support import metadata_schema_py_generated as _metadata_fb\n",
        "\n",
        "\"\"\" ... \"\"\"\n",
        "\"\"\"Creates the metadata for an image classifier.\"\"\"\n",
        "\n",
        "# Creates model info.\n",
        "model_meta = _metadata_fb.ModelMetadataT()\n",
        "model_meta.name = \"Efficientnet Feature vector\"\n",
        "model_meta.description = (\"Extract Feature\")\n",
        "model_meta.version = \"v1\"\n",
        "model_meta.author = \"TensorFlow\"\n",
        "model_meta.license = (\"Apache License. Version 2.0 \"\n",
        "                      \"http://www.apache.org/licenses/LICENSE-2.0.\")"
      ],
      "execution_count": null,
      "outputs": []
    },
    {
      "cell_type": "code",
      "metadata": {
        "id": "oCi2h2EO8ryw"
      },
      "source": [
        "# Creates input info.\n",
        "input_meta = _metadata_fb.TensorMetadataT()\n",
        "\n",
        "# Creates output info.\n",
        "output_meta = _metadata_fb.TensorMetadataT()"
      ],
      "execution_count": null,
      "outputs": []
    },
    {
      "cell_type": "code",
      "metadata": {
        "id": "Hxo-klrq8u8a"
      },
      "source": [
        "input_meta.name = \"image\"\n",
        "input_meta.description = (\n",
        "    \"Input image\".format(224, 224))\n",
        "input_meta.content = _metadata_fb.ContentT()\n",
        "input_meta.content.contentProperties = _metadata_fb.ImagePropertiesT()\n",
        "input_meta.content.contentProperties.colorSpace = (\n",
        "    _metadata_fb.ColorSpaceType.RGB)\n",
        "input_meta.content.contentPropertiesType = (\n",
        "    _metadata_fb.ContentProperties.ImageProperties)\n",
        "input_normalization = _metadata_fb.ProcessUnitT()\n",
        "input_normalization.optionsType = (\n",
        "    _metadata_fb.ProcessUnitOptions.NormalizationOptions)\n",
        "input_normalization.options = _metadata_fb.NormalizationOptionsT()\n",
        "input_normalization.options.mean = [127.5]\n",
        "input_normalization.options.std = [127.5]\n",
        "input_meta.processUnits = [input_normalization] b\n",
        "input_stats = _metadata_fb.StatsT()\n",
        "input_stats.max = [255]\n",
        "input_stats.min = [0]\n",
        "input_meta.stats = input_stats"
      ],
      "execution_count": null,
      "outputs": []
    },
    {
      "cell_type": "code",
      "metadata": {
        "id": "iREMYiye85KP"
      },
      "source": [
        "# Creates output info.\n",
        "output_meta = _metadata_fb.TensorMetadataT()\n",
        "output_meta.name = \"feature\"\n",
        "output_meta.description = \"feature of image\"\n",
        "output_meta.content = _metadata_fb.ContentT()\n",
        "output_meta.content.content_properties = _metadata_fb.FeaturePropertiesT()\n",
        "output_meta.content.contentPropertiesType = (\n",
        "    _metadata_fb.ContentProperties.FeatureProperties)\n",
        "output_stats = _metadata_fb.StatsT()\n",
        "output_stats.max = [255]\n",
        "output_stats.min = [0]\n",
        "output_meta.stats = output_stats"
      ],
      "execution_count": null,
      "outputs": []
    },
    {
      "cell_type": "code",
      "metadata": {
        "id": "kc3lzM8u-eJr"
      },
      "source": [
        "# Creates subgraph info.\n",
        "subgraph = _metadata_fb.SubGraphMetadataT()\n",
        "subgraph.inputTensorMetadata = [input_meta]\n",
        "subgraph.outputTensorMetadata = [output_meta]\n",
        "model_meta.subgraphMetadata = [subgraph]\n",
        "\n",
        "b = flatbuffers.Builder(0)\n",
        "b.Finish(\n",
        "    model_meta.Pack(b),\n",
        "    _metadata.MetadataPopulator.METADATA_FILE_IDENTIFIER)\n",
        "metadata_buf = b.Output()"
      ],
      "execution_count": null,
      "outputs": []
    },
    {
      "cell_type": "code",
      "metadata": {
        "id": "o2mZwfycG9Ji"
      },
      "source": [
        "populator = _metadata.MetadataPopulator.with_model_file('/content/drive/MyDrive/Colab/Sketch_RNN_Together/skku_Clustering/tensorflow/effi_extractor.tflite')\n",
        "populator.load_metadata_buffer(metadata_buf)\n",
        "populator.populate()"
      ],
      "execution_count": null,
      "outputs": []
    },
    {
      "cell_type": "markdown",
      "metadata": {
        "id": "tGXi0JqR8unW"
      },
      "source": [
        "### tflite Interpreter"
      ]
    },
    {
      "cell_type": "code",
      "metadata": {
        "colab": {
          "base_uri": "https://localhost:8080/"
        },
        "id": "7y6CB07xu3bg",
        "outputId": "ab83f290-9a3e-445a-bb2e-d197a905617e"
      },
      "source": [
        "tfms = transforms.Compose([transforms.Resize(224), transforms.ToTensor(),\n",
        "            transforms.Normalize([0.485, 0.456, 0.406], [0.229, 0.224, 0.225]),])\n",
        "img = tfms(Image.open('/content/drive/MyDrive/Colab/Sketch_RNN_Together/skku_Clustering/test_set(random)/eye/test_eye_1.jpg').convert(\"RGB\")).unsqueeze(0)\n",
        "img = tf.reshape(img, [1, 224, 224, 3]) #[batch_size, height, width, 3]\n",
        "img.shape"
      ],
      "execution_count": null,
      "outputs": [
        {
          "output_type": "execute_result",
          "data": {
            "text/plain": [
              "TensorShape([1, 224, 224, 3])"
            ]
          },
          "metadata": {
            "tags": []
          },
          "execution_count": 76
        }
      ]
    },
    {
      "cell_type": "code",
      "metadata": {
        "colab": {
          "base_uri": "https://localhost:8080/"
        },
        "id": "1lKMdtQrvMMG",
        "outputId": "71644e4c-14ea-4541-a928-8ffae81be19b"
      },
      "source": [
        "output = tf.zeros([1, 1280])\n",
        "output.shape"
      ],
      "execution_count": null,
      "outputs": [
        {
          "output_type": "execute_result",
          "data": {
            "text/plain": [
              "TensorShape([1, 1280])"
            ]
          },
          "metadata": {
            "tags": []
          },
          "execution_count": 43
        }
      ]
    },
    {
      "cell_type": "code",
      "metadata": {
        "colab": {
          "base_uri": "https://localhost:8080/"
        },
        "id": "ng8utlmZ017i",
        "outputId": "0afaf674-e9c2-4287-f5c9-5503bab9dc93"
      },
      "source": [
        "input_details"
      ],
      "execution_count": null,
      "outputs": [
        {
          "output_type": "execute_result",
          "data": {
            "text/plain": [
              "[{'dtype': numpy.float32,\n",
              "  'index': 0,\n",
              "  'name': 'serving_default_efficientnetb0_input:0',\n",
              "  'quantization': (0.0, 0),\n",
              "  'quantization_parameters': {'quantized_dimension': 0,\n",
              "   'scales': array([], dtype=float32),\n",
              "   'zero_points': array([], dtype=int32)},\n",
              "  'shape': array([  1, 224, 224,   3], dtype=int32),\n",
              "  'shape_signature': array([ -1, 224, 224,   3], dtype=int32),\n",
              "  'sparsity_parameters': {}}]"
            ]
          },
          "metadata": {
            "tags": []
          },
          "execution_count": 53
        }
      ]
    },
    {
      "cell_type": "code",
      "metadata": {
        "colab": {
          "base_uri": "https://localhost:8080/"
        },
        "id": "4Fp0lhW808CD",
        "outputId": "ed403dfb-861d-4b3d-e1a8-0db5d5f1a666"
      },
      "source": [
        "output_details"
      ],
      "execution_count": null,
      "outputs": [
        {
          "output_type": "execute_result",
          "data": {
            "text/plain": [
              "[{'dtype': numpy.float32,\n",
              "  'index': 487,\n",
              "  'name': 'StatefulPartitionedCall:0',\n",
              "  'quantization': (0.0, 0),\n",
              "  'quantization_parameters': {'quantized_dimension': 0,\n",
              "   'scales': array([], dtype=float32),\n",
              "   'zero_points': array([], dtype=int32)},\n",
              "  'shape': array([   1, 1280], dtype=int32),\n",
              "  'shape_signature': array([  -1, 1280], dtype=int32),\n",
              "  'sparsity_parameters': {}}]"
            ]
          },
          "metadata": {
            "tags": []
          },
          "execution_count": 54
        }
      ]
    },
    {
      "cell_type": "code",
      "metadata": {
        "id": "ZFeOi_y1sml1"
      },
      "source": [
        "# Load TFLite model and allocate tensors.\n",
        "interpreter = tf.lite.Interpreter(model_path='/content/drive/MyDrive/Colab/Sketch_RNN_Together/skku_Clustering/tensorflow/effi_extractor.tflite')\n",
        "interpreter.allocate_tensors()\n",
        "\n",
        "# Get input and output tensors.\n",
        "input_details = interpreter.get_input_details()\n",
        "output_details = interpreter.get_output_details()\n",
        "\n",
        "# Test model on random input data.\n",
        "input_shape = input_details[0]['shape']\n",
        "input_data = img\n",
        "interpreter.set_tensor(input_details[0]['index'], input_data)\n",
        "\n",
        "interpreter.invoke()\n",
        "output_data = interpreter.get_tensor(output_details[0]['index'])"
      ],
      "execution_count": null,
      "outputs": []
    },
    {
      "cell_type": "markdown",
      "metadata": {
        "id": "zQKqytUq3wYt"
      },
      "source": [
        "### tflite Converter"
      ]
    },
    {
      "cell_type": "code",
      "metadata": {
        "colab": {
          "base_uri": "https://localhost:8080/"
        },
        "id": "Qh2H2KqeeOSs",
        "outputId": "8bb3ea4a-13e1-4a56-f82f-e13397bf6f13"
      },
      "source": [
        "!saved_model_cli show --dir '/content/drive/MyDrive/Colab/Sketch_RNN_Together/tensor/efficientnet_lite4_feature-vector_2/' --tag_set serve --signature_def serving_default"
      ],
      "execution_count": null,
      "outputs": [
        {
          "output_type": "stream",
          "text": [
            "Traceback (most recent call last):\n",
            "  File \"/usr/local/bin/saved_model_cli\", line 8, in <module>\n",
            "    sys.exit(main())\n",
            "  File \"/usr/local/lib/python2.7/dist-packages/tensorflow_core/python/tools/saved_model_cli.py\", line 990, in main\n",
            "    args.func(args)\n",
            "  File \"/usr/local/lib/python2.7/dist-packages/tensorflow_core/python/tools/saved_model_cli.py\", line 702, in show\n",
            "    _show_inputs_outputs(args.dir, args.tag_set, args.signature_def)\n",
            "  File \"/usr/local/lib/python2.7/dist-packages/tensorflow_core/python/tools/saved_model_cli.py\", line 137, in _show_inputs_outputs\n",
            "    tag_set)\n",
            "  File \"/usr/local/lib/python2.7/dist-packages/tensorflow_core/python/tools/saved_model_utils.py\", line 120, in get_meta_graph_def\n",
            "    ' could not be found in SavedModel')\n",
            "RuntimeError: MetaGraphDef associated with tag-set serve could not be found in SavedModel\n"
          ],
          "name": "stdout"
        }
      ]
    },
    {
      "cell_type": "code",
      "metadata": {
        "colab": {
          "base_uri": "https://localhost:8080/"
        },
        "id": "KLC1KLEpMTE8",
        "outputId": "a29cd5fc-0c56-472f-8b0c-de4a27cf1b6a"
      },
      "source": [
        "!python freeze_graph.py --model_dir='/content/drive/MyDrive/Colab/Sketch_RNN_Together/tensor/efficientnet-lite4' --output_node_names='frozen_model.pb'"
      ],
      "execution_count": null,
      "outputs": [
        {
          "output_type": "stream",
          "text": [
            "2021-08-03 18:17:57.696955: I tensorflow/stream_executor/platform/default/dso_loader.cc:53] Successfully opened dynamic library libcudart.so.11.0\n",
            "Traceback (most recent call last):\n",
            "  File \"freeze_graph.py\", line 9, in <module>\n",
            "    tf.io.gfile = tb.compat.tensorflow_stub.io.gfile\n",
            "NameError: name 'tb' is not defined\n"
          ],
          "name": "stdout"
        }
      ]
    },
    {
      "cell_type": "code",
      "metadata": {
        "id": "YYUDllTZ8UZA"
      },
      "source": [
        "import os\n",
        "os.chdir('/content/drive/MyDrive/Colab/Sketch_RNN_Together/tensor/')"
      ],
      "execution_count": null,
      "outputs": []
    },
    {
      "cell_type": "code",
      "metadata": {
        "colab": {
          "base_uri": "https://localhost:8080/"
        },
        "id": "p89JjVN86RIK",
        "outputId": "81645333-d904-4f34-a3dc-673f7759bde2"
      },
      "source": [
        "!python pb_tensorboard.py --model_dir='/content/drive/MyDrive/Colab/Sketch_RNN_Together/tensor/efficientnet_lite4_feature-vector_2/' --log_dir='./'"
      ],
      "execution_count": null,
      "outputs": [
        {
          "output_type": "stream",
          "text": [
            "2021-08-03 17:46:48.929807: I tensorflow/stream_executor/platform/default/dso_loader.cc:53] Successfully opened dynamic library libcudart.so.11.0\n",
            "2021-08-03 17:46:50.845263: I tensorflow/stream_executor/platform/default/dso_loader.cc:53] Successfully opened dynamic library libcuda.so.1\n",
            "2021-08-03 17:46:50.856901: E tensorflow/stream_executor/cuda/cuda_driver.cc:328] failed call to cuInit: CUDA_ERROR_NO_DEVICE: no CUDA-capable device is detected\n",
            "2021-08-03 17:46:50.856964: I tensorflow/stream_executor/cuda/cuda_diagnostics.cc:156] kernel driver does not appear to be running on this host (a7ed472c7358): /proc/driver/nvidia/version does not exist\n",
            "Model Imported. Visualize by running: tensorboard --logdir=./\n"
          ],
          "name": "stdout"
        }
      ]
    },
    {
      "cell_type": "code",
      "metadata": {
        "id": "C1Ae1HIGIlJb"
      },
      "source": [
        "import tensorflow.compat.v1 as tf\n",
        "tf.disable_v2_behavior()\n",
        "\n",
        "graph_def_file = tf_model_path\n",
        "input_arrays = {시작노드이름}\n",
        "output_arrays = {끝노드이름}\n",
        "tflite_file = '/content/drive/MyDrive/Colab/Sketch_RNN_Together/tensor/'\n",
        "\n",
        "converter = tf.lite.TFLiteConverter.from_frozen_graph(graph_def_file, input_arrays, output_arrays)\n",
        "tflite_model = converter.convert()\n",
        "open(tflite_file, \"wb\").write(tflite_model)"
      ],
      "execution_count": null,
      "outputs": []
    },
    {
      "cell_type": "code",
      "metadata": {
        "id": "IpJEQpgCLKyL"
      },
      "source": [
        "import tensorflow.compat.v1 as tf\n",
        "tf.disable_v2_behavior()\n",
        "\n",
        "pb_path = \"/content/drive/MyDrive/Colab/Sketch_RNN_Together/tensor/efficientnet_lite4_feature-vector_2/saved_model.pb\"\n",
        "converter = tf.lite.TFLiteConverter.from_frozen_graph(pb_path, ['normalized_input_image_tensor'], ['TFLite_Detection_PostProcess','TFLite_Detection_PostProcess:1','TFLite_Detection_PostProcess:2','TFLite_Detection_PostProcess:3'], {\"normalized_input_image_tensor\": [1, 300, 300, 3]})\n",
        "# Configure converter properties\n",
        "converter.optimizations=True\n",
        "converter.allow_custom_ops=True\n",
        "tflite_m = converter.convert()\n",
        " \n",
        "tf_file = open(\"converted_model.tflite\", \"wb\")\n",
        "tf_file.write(tflite_m)\n"
      ],
      "execution_count": null,
      "outputs": []
    },
    {
      "cell_type": "code",
      "metadata": {
        "id": "B2NOfR4X-NEH"
      },
      "source": [
        "# Convert the model\n",
        "converter = tf.lite.TFLiteConverter.from_saved_model(tf_model_path)\n",
        "tflite_model = converter.convert()\n",
        "\n",
        "# Save the model\n",
        "with open(tflite_model_path, 'wb') as f:\n",
        "    f.write(tflite_model)"
      ],
      "execution_count": null,
      "outputs": []
    },
    {
      "cell_type": "code",
      "metadata": {
        "colab": {
          "base_uri": "https://localhost:8080/"
        },
        "id": "14c1xZGIRSUE",
        "outputId": "00815953-4e51-48b9-fb13-7ac02343624e"
      },
      "source": [
        "try (Interpreter interpreter = new Interpreter(tensorflow_lite_model_file)) {\n",
        "  interpreter.run(input, output);\n",
        "}"
      ],
      "execution_count": null,
      "outputs": [
        {
          "output_type": "execute_result",
          "data": {
            "text/plain": [
              "<tensorflow.python.saved_model.load.Loader._recreate_base_user_object.<locals>._UserObject at 0x7fc57f965250>"
            ]
          },
          "metadata": {
            "tags": []
          },
          "execution_count": 38
        }
      ]
    },
    {
      "cell_type": "markdown",
      "metadata": {
        "id": "HvIiw4RX39X_"
      },
      "source": [
        "### tflite Testing\n"
      ]
    },
    {
      "cell_type": "code",
      "metadata": {
        "id": "XO8UlBm4WtXs"
      },
      "source": [
        "#dataset path\n",
        "data_path = '/content/drive/MyDrive/Colab/Sketch_RNN_Together/Dataset/Filtered_img/'\n",
        "# #feature path\n",
        "feat_path = \"/content/drive/MyDrive/Colab/Sketch_RNN_Together/skku_Clustering/features_hw_no_circle.npy\"\n",
        "# #filename path\n",
        "filename_path = \"/content/drive/MyDrive/Colab/Sketch_RNN_Together/skku_Clustering/filename_no_circle.txt\""
      ],
      "execution_count": 27,
      "outputs": []
    },
    {
      "cell_type": "code",
      "metadata": {
        "colab": {
          "base_uri": "https://localhost:8080/",
          "height": 124,
          "referenced_widgets": [
            "749b16c94e9348a79c19a1128bcaf423",
            "83dddecc26244d619f1bed5147cb7522",
            "da01953e0ee24f729f9aca270340da1c",
            "1893ce71759c410aa8d3d329d49e9397",
            "d75c32cfcf394cc691f795a68d641d57",
            "3cdbe7df85204df18249519b68bc2ae8",
            "c8635441afd6458ebbde1c42dff078d0",
            "bad8f8bf5cd74befb97d8f856bb399b4"
          ]
        },
        "id": "d4iAiTzgp97B",
        "outputId": "9bd9bfde-b851-4e37-d0d9-34df1bc403df"
      },
      "source": [
        "model = knnModel(\"/content/drive/MyDrive/Colab/Sketch_RNN_Together/skku_Clustering/features_hw_filtered_10.npy\",\"/content/drive/MyDrive/Colab/Sketch_RNN_Together/skku_Clustering/filenames_hw_filtered_10.npy\",'/content/drive/MyDrive/Colab/Sketch_RNN_Together/Dataset/Filtered_img/')"
      ],
      "execution_count": null,
      "outputs": [
        {
          "output_type": "stream",
          "text": [
            "Downloading: \"https://github.com/lukemelas/EfficientNet-PyTorch/releases/download/1.0/efficientnet-b0-355c32eb.pth\" to /root/.cache/torch/hub/checkpoints/efficientnet-b0-355c32eb.pth\n"
          ],
          "name": "stderr"
        },
        {
          "output_type": "display_data",
          "data": {
            "application/vnd.jupyter.widget-view+json": {
              "model_id": "749b16c94e9348a79c19a1128bcaf423",
              "version_major": 2,
              "version_minor": 0
            },
            "text/plain": [
              "HBox(children=(FloatProgress(value=0.0, max=21388428.0), HTML(value='')))"
            ]
          },
          "metadata": {
            "tags": []
          }
        },
        {
          "output_type": "stream",
          "text": [
            "\n",
            "Loaded pretrained weights for efficientnet-b0\n"
          ],
          "name": "stdout"
        }
      ]
    },
    {
      "cell_type": "code",
      "metadata": {
        "id": "MdGEsHtM-b4N"
      },
      "source": [
        "import glob\n",
        "data_list = []\n",
        "data_list = [files for files in glob.glob(data_path + '*/*.jpg')]\n",
        "new_data = '/content/drive/MyDrive/Colab/Sketch_RNN_Together/skku_Clustering/test_set(random)/eye/test_eye_1.jpg'"
      ],
      "execution_count": 48,
      "outputs": []
    },
    {
      "cell_type": "code",
      "metadata": {
        "id": "CYBLiKop-_NL"
      },
      "source": [
        "def extract_feature(image):\n",
        "  tfms = transforms.Compose([transforms.Resize(224), transforms.ToTensor(),\n",
        "            transforms.Normalize([0.485, 0.456, 0.406], [0.229, 0.224, 0.225]),])\n",
        "  img = tfms(Image.open(image).convert(\"RGB\")).unsqueeze(0)\n",
        "  img = tf.reshape(img, [1, 224, 224, 3]) #[batch_size, height, width, 3]\n",
        "\n",
        "  # Load TFLite model and allocate tensors.\n",
        "  interpreter = tf.lite.Interpreter(model_path='/content/drive/MyDrive/Colab/Sketch_RNN_Together/skku_Clustering/tensorflow/effi_extractor.tflite')\n",
        "  interpreter.allocate_tensors()\n",
        "\n",
        "  # Get input and output tensors.\n",
        "  input_details = interpreter.get_input_details()\n",
        "  output_details = interpreter.get_output_details()\n",
        "\n",
        "  # Test model on random input data.\n",
        "  input_shape = input_details[0]['shape']\n",
        "  input_data = img\n",
        "  interpreter.set_tensor(input_details[0]['index'], input_data)\n",
        "\n",
        "  interpreter.invoke()\n",
        "  output_data = interpreter.get_tensor(output_details[0]['index'])\n",
        "  return list(output_data[0])"
      ],
      "execution_count": 29,
      "outputs": []
    },
    {
      "cell_type": "code",
      "metadata": {
        "id": "2Xyt2TUZEuNC"
      },
      "source": [
        "feat = np.load(feat_path)\n",
        "filename =np.loadtxt(filename_path,dtype = 'str')"
      ],
      "execution_count": 49,
      "outputs": []
    },
    {
      "cell_type": "code",
      "metadata": {
        "id": "69FuvfLkDtrM"
      },
      "source": [
        "feat = np.append(feat, np.array(list(extract_feature(new_data))).reshape(1,1280), axis = 0)\n",
        "filename = np.append(filename, np.array([new_data]), axis = 0)"
      ],
      "execution_count": 50,
      "outputs": []
    },
    {
      "cell_type": "code",
      "metadata": {
        "id": "br8LvQ5FG7KX"
      },
      "source": [
        "#TSNE\n",
        "from sklearn.manifold import TSNE\n",
        "tsne = TSNE(n_components=2, init='pca', random_state=0)\n",
        "x = tsne.fit_transform(feat)"
      ],
      "execution_count": 52,
      "outputs": []
    },
    {
      "cell_type": "code",
      "metadata": {
        "id": "gcy7oywtG-rk"
      },
      "source": [
        "from sklearn.neighbors import NearestNeighbors\n",
        "knn = NearestNeighbors(n_neighbors=6, algorithm='auto').fit(x)\n",
        "distances, indices = knn.kneighbors([list(x[-1])])"
      ],
      "execution_count": 53,
      "outputs": []
    },
    {
      "cell_type": "code",
      "metadata": {
        "id": "uCGE3mgUw_jw"
      },
      "source": [
        "import os\n",
        "os.chdir('/content/drive/MyDrive/Colab/Sketch_RNN_Together/Dataset/Filtered_img')"
      ],
      "execution_count": 40,
      "outputs": []
    },
    {
      "cell_type": "code",
      "metadata": {
        "id": "6x4nRDSCHAz3",
        "colab": {
          "base_uri": "https://localhost:8080/",
          "height": 94
        },
        "outputId": "f7d6452c-2584-439a-823a-220a97a87bb8"
      },
      "source": [
        "import matplotlib.pyplot as plt\n",
        "image = [np.array(Image.open(new_data))]\n",
        "name = ['new_data']\n",
        "path = '/content/drive/MyDrive/Colab/Sketch_RNN_Together/Dataset/Filtered_img/'\n",
        "\n",
        "for i in range(1, 6):\n",
        "  idx = indices[0][i]\n",
        "  image.append(np.array(Image.open(path + filename[idx].split('_')[0] + '/' + filename[idx] + '.jpg')))\n",
        "  name.append(filename[idx].split('_')[0])\n",
        "\n",
        "\n",
        "for i, img in enumerate(image):\n",
        "  plt.subplot(1,6,i+1)\n",
        "  plt.title(name[i])\n",
        "  plt.imshow(img, 'gray')\n",
        "\n",
        "plt.tight_layout()\n",
        "plt.show()"
      ],
      "execution_count": 59,
      "outputs": [
        {
          "output_type": "display_data",
          "data": {
            "image/png": "[encoded data removed]",
            "text/plain": [
              "<Figure size 432x288 with 6 Axes>"
            ]
          },
          "metadata": {
            "tags": [],
            "needs_background": "light"
          }
        }
      ]
    }
  ]
}