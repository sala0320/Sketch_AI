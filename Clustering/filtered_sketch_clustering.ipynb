{
  "nbformat": 4,
  "nbformat_minor": 0,
  "metadata": {
    "accelerator": "GPU",
    "colab": {
      "name": "filtered_sketch_clustering.ipynb",
      "provenance": [],
      "collapsed_sections": [],
      "machine_shape": "hm"
    },
    "kernelspec": {
      "display_name": "Python 3",
      "name": "python3"
    },
    "language_info": {
      "name": "python"
    },
    "widgets": {
      "application/vnd.jupyter.widget-state+json": {
        "0dae4e17555c45468f21470acd963ba9": {
          "model_module": "@jupyter-widgets/controls",
          "model_name": "HBoxModel",
          "state": {
            "_view_name": "HBoxView",
            "_dom_classes": [],
            "_model_name": "HBoxModel",
            "_view_module": "@jupyter-widgets/controls",
            "_model_module_version": "1.5.0",
            "_view_count": null,
            "_view_module_version": "1.5.0",
            "box_style": "",
            "layout": "IPY_MODEL_53c9c86ba0c34441a44073bd534480c7",
            "_model_module": "@jupyter-widgets/controls",
            "children": [
              "IPY_MODEL_21f7292cc0124255b1fc376e6c176b0a",
              "IPY_MODEL_db5e5f2ceb924d5fb6e698e37ba5d336"
            ]
          }
        },
        "53c9c86ba0c34441a44073bd534480c7": {
          "model_module": "@jupyter-widgets/base",
          "model_name": "LayoutModel",
          "state": {
            "_view_name": "LayoutView",
            "grid_template_rows": null,
            "right": null,
            "justify_content": null,
            "_view_module": "@jupyter-widgets/base",
            "overflow": null,
            "_model_module_version": "1.2.0",
            "_view_count": null,
            "flex_flow": null,
            "width": null,
            "min_width": null,
            "border": null,
            "align_items": null,
            "bottom": null,
            "_model_module": "@jupyter-widgets/base",
            "top": null,
            "grid_column": null,
            "overflow_y": null,
            "overflow_x": null,
            "grid_auto_flow": null,
            "grid_area": null,
            "grid_template_columns": null,
            "flex": null,
            "_model_name": "LayoutModel",
            "justify_items": null,
            "grid_row": null,
            "max_height": null,
            "align_content": null,
            "visibility": null,
            "align_self": null,
            "height": null,
            "min_height": null,
            "padding": null,
            "grid_auto_rows": null,
            "grid_gap": null,
            "max_width": null,
            "order": null,
            "_view_module_version": "1.2.0",
            "grid_template_areas": null,
            "object_position": null,
            "object_fit": null,
            "grid_auto_columns": null,
            "margin": null,
            "display": null,
            "left": null
          }
        },
        "21f7292cc0124255b1fc376e6c176b0a": {
          "model_module": "@jupyter-widgets/controls",
          "model_name": "FloatProgressModel",
          "state": {
            "_view_name": "ProgressView",
            "style": "IPY_MODEL_2284d8b694ca41eab9ca68a3dee5b437",
            "_dom_classes": [],
            "description": "100%",
            "_model_name": "FloatProgressModel",
            "bar_style": "success",
            "max": 21388428,
            "_view_module": "@jupyter-widgets/controls",
            "_model_module_version": "1.5.0",
            "value": 21388428,
            "_view_count": null,
            "_view_module_version": "1.5.0",
            "orientation": "horizontal",
            "min": 0,
            "description_tooltip": null,
            "_model_module": "@jupyter-widgets/controls",
            "layout": "IPY_MODEL_9842cae72522410b8ae3fe2810d1120d"
          }
        },
        "db5e5f2ceb924d5fb6e698e37ba5d336": {
          "model_module": "@jupyter-widgets/controls",
          "model_name": "HTMLModel",
          "state": {
            "_view_name": "HTMLView",
            "style": "IPY_MODEL_0f62fc83a7cf43d8b50643b148e0cbd3",
            "_dom_classes": [],
            "description": "",
            "_model_name": "HTMLModel",
            "placeholder": "​",
            "_view_module": "@jupyter-widgets/controls",
            "_model_module_version": "1.5.0",
            "value": " 20.4M/20.4M [00:01&lt;00:00, 13.6MB/s]",
            "_view_count": null,
            "_view_module_version": "1.5.0",
            "description_tooltip": null,
            "_model_module": "@jupyter-widgets/controls",
            "layout": "IPY_MODEL_e5ec58c6c3b54ccba22418d922c533ad"
          }
        },
        "2284d8b694ca41eab9ca68a3dee5b437": {
          "model_module": "@jupyter-widgets/controls",
          "model_name": "ProgressStyleModel",
          "state": {
            "_view_name": "StyleView",
            "_model_name": "ProgressStyleModel",
            "description_width": "initial",
            "_view_module": "@jupyter-widgets/base",
            "_model_module_version": "1.5.0",
            "_view_count": null,
            "_view_module_version": "1.2.0",
            "bar_color": null,
            "_model_module": "@jupyter-widgets/controls"
          }
        },
        "9842cae72522410b8ae3fe2810d1120d": {
          "model_module": "@jupyter-widgets/base",
          "model_name": "LayoutModel",
          "state": {
            "_view_name": "LayoutView",
            "grid_template_rows": null,
            "right": null,
            "justify_content": null,
            "_view_module": "@jupyter-widgets/base",
            "overflow": null,
            "_model_module_version": "1.2.0",
            "_view_count": null,
            "flex_flow": null,
            "width": null,
            "min_width": null,
            "border": null,
            "align_items": null,
            "bottom": null,
            "_model_module": "@jupyter-widgets/base",
            "top": null,
            "grid_column": null,
            "overflow_y": null,
            "overflow_x": null,
            "grid_auto_flow": null,
            "grid_area": null,
            "grid_template_columns": null,
            "flex": null,
            "_model_name": "LayoutModel",
            "justify_items": null,
            "grid_row": null,
            "max_height": null,
            "align_content": null,
            "visibility": null,
            "align_self": null,
            "height": null,
            "min_height": null,
            "padding": null,
            "grid_auto_rows": null,
            "grid_gap": null,
            "max_width": null,
            "order": null,
            "_view_module_version": "1.2.0",
            "grid_template_areas": null,
            "object_position": null,
            "object_fit": null,
            "grid_auto_columns": null,
            "margin": null,
            "display": null,
            "left": null
          }
        },
        "0f62fc83a7cf43d8b50643b148e0cbd3": {
          "model_module": "@jupyter-widgets/controls",
          "model_name": "DescriptionStyleModel",
          "state": {
            "_view_name": "StyleView",
            "_model_name": "DescriptionStyleModel",
            "description_width": "",
            "_view_module": "@jupyter-widgets/base",
            "_model_module_version": "1.5.0",
            "_view_count": null,
            "_view_module_version": "1.2.0",
            "_model_module": "@jupyter-widgets/controls"
          }
        },
        "e5ec58c6c3b54ccba22418d922c533ad": {
          "model_module": "@jupyter-widgets/base",
          "model_name": "LayoutModel",
          "state": {
            "_view_name": "LayoutView",
            "grid_template_rows": null,
            "right": null,
            "justify_content": null,
            "_view_module": "@jupyter-widgets/base",
            "overflow": null,
            "_model_module_version": "1.2.0",
            "_view_count": null,
            "flex_flow": null,
            "width": null,
            "min_width": null,
            "border": null,
            "align_items": null,
            "bottom": null,
            "_model_module": "@jupyter-widgets/base",
            "top": null,
            "grid_column": null,
            "overflow_y": null,
            "overflow_x": null,
            "grid_auto_flow": null,
            "grid_area": null,
            "grid_template_columns": null,
            "flex": null,
            "_model_name": "LayoutModel",
            "justify_items": null,
            "grid_row": null,
            "max_height": null,
            "align_content": null,
            "visibility": null,
            "align_self": null,
            "height": null,
            "min_height": null,
            "padding": null,
            "grid_auto_rows": null,
            "grid_gap": null,
            "max_width": null,
            "order": null,
            "_view_module_version": "1.2.0",
            "grid_template_areas": null,
            "object_position": null,
            "object_fit": null,
            "grid_auto_columns": null,
            "margin": null,
            "display": null,
            "left": null
          }
        }
      }
    }
  },
  "cells": [
    {
      "cell_type": "markdown",
      "metadata": {
        "id": "UTb2RneWn5dp"
      },
      "source": [
        "### 초기설정"
      ]
    },
    {
      "cell_type": "code",
      "metadata": {
        "id": "VWB08whFNasE",
        "colab": {
          "base_uri": "https://localhost:8080/"
        },
        "outputId": "05882bbf-5523-4c24-f0d0-712c4f86e2f8"
      },
      "source": [
        "!pip install efficientnet_pytorch"
      ],
      "execution_count": 1,
      "outputs": [
        {
          "output_type": "stream",
          "text": [
            "Collecting efficientnet_pytorch\n",
            "  Downloading efficientnet_pytorch-0.7.1.tar.gz (21 kB)\n",
            "Requirement already satisfied: torch in /usr/local/lib/python3.7/dist-packages (from efficientnet_pytorch) (1.9.0+cu102)\n",
            "Requirement already satisfied: typing-extensions in /usr/local/lib/python3.7/dist-packages (from torch->efficientnet_pytorch) (3.7.4.3)\n",
            "Building wheels for collected packages: efficientnet-pytorch\n",
            "  Building wheel for efficientnet-pytorch (setup.py) ... \u001b[?25l\u001b[?25hdone\n",
            "  Created wheel for efficientnet-pytorch: filename=efficientnet_pytorch-0.7.1-py3-none-any.whl size=16446 sha256=ecffe62a3ae4a55fc5acfc3b603a03fe3ecd1f02aa43d8c1d4d3b7e035885653\n",
            "  Stored in directory: /root/.cache/pip/wheels/0e/cc/b2/49e74588263573ff778da58cc99b9c6349b496636a7e165be6\n",
            "Successfully built efficientnet-pytorch\n",
            "Installing collected packages: efficientnet-pytorch\n",
            "Successfully installed efficientnet-pytorch-0.7.1\n"
          ],
          "name": "stdout"
        }
      ]
    },
    {
      "cell_type": "code",
      "metadata": {
        "id": "SRma338RRFKa",
        "colab": {
          "base_uri": "https://localhost:8080/"
        },
        "outputId": "3361d9f9-d335-4e27-84a8-254a2cffcbbb"
      },
      "source": [
        "!pip install umap-learn"
      ],
      "execution_count": 2,
      "outputs": [
        {
          "output_type": "stream",
          "text": [
            "Collecting umap-learn\n",
            "  Downloading umap-learn-0.5.1.tar.gz (80 kB)\n",
            "\u001b[K     |████████████████████████████████| 80 kB 7.7 MB/s \n",
            "\u001b[?25hRequirement already satisfied: numpy>=1.17 in /usr/local/lib/python3.7/dist-packages (from umap-learn) (1.19.5)\n",
            "Requirement already satisfied: scikit-learn>=0.22 in /usr/local/lib/python3.7/dist-packages (from umap-learn) (0.22.2.post1)\n",
            "Requirement already satisfied: scipy>=1.0 in /usr/local/lib/python3.7/dist-packages (from umap-learn) (1.4.1)\n",
            "Requirement already satisfied: numba>=0.49 in /usr/local/lib/python3.7/dist-packages (from umap-learn) (0.51.2)\n",
            "Collecting pynndescent>=0.5\n",
            "  Downloading pynndescent-0.5.4.tar.gz (1.1 MB)\n",
            "\u001b[K     |████████████████████████████████| 1.1 MB 22.0 MB/s \n",
            "\u001b[?25hRequirement already satisfied: llvmlite<0.35,>=0.34.0.dev0 in /usr/local/lib/python3.7/dist-packages (from numba>=0.49->umap-learn) (0.34.0)\n",
            "Requirement already satisfied: setuptools in /usr/local/lib/python3.7/dist-packages (from numba>=0.49->umap-learn) (57.2.0)\n",
            "Requirement already satisfied: joblib>=0.11 in /usr/local/lib/python3.7/dist-packages (from pynndescent>=0.5->umap-learn) (1.0.1)\n",
            "Building wheels for collected packages: umap-learn, pynndescent\n",
            "  Building wheel for umap-learn (setup.py) ... \u001b[?25l\u001b[?25hdone\n",
            "  Created wheel for umap-learn: filename=umap_learn-0.5.1-py3-none-any.whl size=76566 sha256=d8250f3a05f00801cebb51544ca647ec10c653093d34ae1fcb0efbb66f5648b5\n",
            "  Stored in directory: /root/.cache/pip/wheels/01/e7/bb/347dc0e510803d7116a13d592b10cc68262da56a8eec4dd72f\n",
            "  Building wheel for pynndescent (setup.py) ... \u001b[?25l\u001b[?25hdone\n",
            "  Created wheel for pynndescent: filename=pynndescent-0.5.4-py3-none-any.whl size=52372 sha256=bc6915822d28b96698479f806a9286021fe978fe25db70ab6015710b1248eda6\n",
            "  Stored in directory: /root/.cache/pip/wheels/d0/5b/62/3401692ddad12324249c774c4b15ccb046946021e2b581c043\n",
            "Successfully built umap-learn pynndescent\n",
            "Installing collected packages: pynndescent, umap-learn\n",
            "Successfully installed pynndescent-0.5.4 umap-learn-0.5.1\n"
          ],
          "name": "stdout"
        }
      ]
    },
    {
      "cell_type": "code",
      "metadata": {
        "id": "T-YX_2ITJajI"
      },
      "source": [
        "from efficientnet_pytorch import EfficientNet\n",
        "from sklearn.cluster import KMeans\n",
        "from sklearn.decomposition import PCA\n",
        "# from keras.applications.vgg16 import VGG16 \n",
        "# from keras.models import Model\n",
        "# from keras.applications.vgg16 import preprocess_input \n",
        "import os\n",
        "import logging\n",
        "import torch\n",
        "from torch import nn\n",
        "import pickle\n",
        "from tqdm import tqdm\n",
        "from torchvision import transforms\n",
        "import numpy as np\n",
        "import pandas as pd\n",
        "from PIL import Image\n",
        "import matplotlib.pyplot as plt"
      ],
      "execution_count": 3,
      "outputs": []
    },
    {
      "cell_type": "code",
      "metadata": {
        "id": "XYnJ5cW0n2Zq"
      },
      "source": [
        "#dataset path\n",
        "data_path = '/content/drive/MyDrive/Colab/Sketch_RNN_Together/Dataset/Filtered_img/'\n",
        "#feature path\n",
        "feat_path = \"/content/drive/MyDrive/Colab/Sketch_RNN/torch_sketch/features_filter.npy\"\n",
        "#filename path\n",
        "filename_path = \"/content/drive/MyDrive/Colab/Sketch_RNN/torch_sketch/filenames_filter.npy\"\n",
        "#cluster_list\n",
        "cluster_list_path = '/content/drive/MyDrive/Colab/Sketch_RNN_Together/Dataset/Filtered_img/cluster_list.txt'\n",
        "cluster_list = open(cluster_list_path , 'r').read().split('\\n')\n",
        "#image_save_path\n",
        "save_path = '/content/drive/MyDrive/Colab/Sketch_RNN/torch_sketch/Result/'\n",
        "\n",
        "# p = r\"/content/drive/MyDrive/Colab/Sketch_RNN/torch_sketch/sktch_log.pkl\""
      ],
      "execution_count": 4,
      "outputs": []
    },
    {
      "cell_type": "code",
      "metadata": {
        "id": "5-9vFmDaKvk_"
      },
      "source": [
        "import glob\n",
        "data_list = []\n",
        "data_list = [files for files in glob.glob(data_path + '*/*.jpg')]\n",
        "print(data_list)"
      ],
      "execution_count": null,
      "outputs": []
    },
    {
      "cell_type": "markdown",
      "metadata": {
        "id": "wLvUDAarsEIv"
      },
      "source": [
        "### Feature Extraction"
      ]
    },
    {
      "cell_type": "code",
      "metadata": {
        "cellView": "code",
        "id": "IjCYRALgNNGN"
      },
      "source": [
        "#transform\n",
        "tfms = transforms.Compose([transforms.Resize(224), transforms.ToTensor(),\n",
        "    transforms.Normalize([0.485, 0.456, 0.406], [0.229, 0.224, 0.225]),])\n",
        "pooling = nn.AdaptiveAvgPool2d(1)\n",
        "\n",
        "def feature_extraction(image, model):\n",
        "    img = tfms(Image.open(image).convert(\"RGB\")).unsqueeze(0)\n",
        "    feature = model.extract_features(img)\n",
        "    features = pooling(feature)\n",
        "    return features"
      ],
      "execution_count": 6,
      "outputs": []
    },
    {
      "cell_type": "code",
      "metadata": {
        "colab": {
          "base_uri": "https://localhost:8080/",
          "height": 121,
          "referenced_widgets": [
            "0dae4e17555c45468f21470acd963ba9",
            "53c9c86ba0c34441a44073bd534480c7",
            "21f7292cc0124255b1fc376e6c176b0a",
            "db5e5f2ceb924d5fb6e698e37ba5d336",
            "2284d8b694ca41eab9ca68a3dee5b437",
            "9842cae72522410b8ae3fe2810d1120d",
            "0f62fc83a7cf43d8b50643b148e0cbd3",
            "e5ec58c6c3b54ccba22418d922c533ad"
          ]
        },
        "id": "A1adKg0aJ15K",
        "outputId": "84eb2555-536e-4b42-db4b-a22246518e4f"
      },
      "source": [
        "model = EfficientNet.from_pretrained('efficientnet-b0')\n",
        "data = {}\n",
        "for i, image in enumerate(tqdm(data_list)):\n",
        "  feat = feature_extraction(image, model)\n",
        "  feat = feat.detach().numpy().reshape(-1)\n",
        "  data[image] = (feat)\n",
        "  if(i % 500 == 0):\n",
        "      np.save(feat_path, np.array(list(data.values())))\n",
        "      np.save(filename_path, np.array(list(data.keys())))\n",
        "\n",
        "feat = np.array(list(data.values()))\n",
        "filenames = np.array(list(data.keys()))\n",
        "np.save(feat_path, feat)\n",
        "np.save(filename_path, filenames)"
      ],
      "execution_count": 7,
      "outputs": [
        {
          "output_type": "stream",
          "text": [
            "Downloading: \"https://github.com/lukemelas/EfficientNet-PyTorch/releases/download/1.0/efficientnet-b0-355c32eb.pth\" to /root/.cache/torch/hub/checkpoints/efficientnet-b0-355c32eb.pth\n"
          ],
          "name": "stderr"
        },
        {
          "output_type": "display_data",
          "data": {
            "application/vnd.jupyter.widget-view+json": {
              "model_id": "0dae4e17555c45468f21470acd963ba9",
              "version_minor": 0,
              "version_major": 2
            },
            "text/plain": [
              "HBox(children=(FloatProgress(value=0.0, max=21388428.0), HTML(value='')))"
            ]
          },
          "metadata": {
            "tags": []
          }
        },
        {
          "output_type": "stream",
          "text": [
            "\r  0%|          | 0/607 [00:00<?, ?it/s]"
          ],
          "name": "stderr"
        },
        {
          "output_type": "stream",
          "text": [
            "\n",
            "Loaded pretrained weights for efficientnet-b0\n"
          ],
          "name": "stdout"
        },
        {
          "output_type": "stream",
          "text": [
            "100%|██████████| 607/607 [05:05<00:00,  1.99it/s]\n"
          ],
          "name": "stderr"
        }
      ]
    },
    {
      "cell_type": "markdown",
      "metadata": {
        "id": "EXSd3JgIsJF4"
      },
      "source": [
        "### Dimension Reduction"
      ]
    },
    {
      "cell_type": "code",
      "metadata": {
        "id": "IoX_wOe6dJWz"
      },
      "source": [
        "#PCA\n",
        "# feat = np.load(feat_path)\n",
        "# from sklearn.decomposition import PCA\n",
        "# pca = PCA(n_components=2, random_state=0)\n",
        "# pca.fit(feat)\n",
        "# x = pca.transform(feat)"
      ],
      "execution_count": null,
      "outputs": []
    },
    {
      "cell_type": "code",
      "metadata": {
        "id": "MI4Xn9lB-Zse"
      },
      "source": [
        "#TSNE\n",
        "feat = np.load(feat_path)\n",
        "from sklearn.manifold import TSNE\n",
        "tsne = TSNE(n_components=2, init='pca', random_state=0)\n",
        "x = tsne.fit_transform(feat)"
      ],
      "execution_count": 8,
      "outputs": []
    },
    {
      "cell_type": "code",
      "metadata": {
        "id": "ZqCgkjc-Ncqw"
      },
      "source": [
        "#UMAP\n",
        "# feat = np.load(feat_path)\n",
        "# import umap\n",
        "# umap = umap.UMAP(n_components=2, random_state=0)\n",
        "# umap.fit(feat)\n",
        "# x = umap.transform(feat)"
      ],
      "execution_count": null,
      "outputs": []
    },
    {
      "cell_type": "markdown",
      "metadata": {
        "id": "M8kQROFssL5o"
      },
      "source": [
        "### Clustering"
      ]
    },
    {
      "cell_type": "code",
      "metadata": {
        "id": "FvIUYj-ksubr"
      },
      "source": [
        "def clustering_method(cmd, cluster_num, input):\n",
        "  if cmd == 'kmeans':\n",
        "    from sklearn.cluster import KMeans\n",
        "    kmeans = KMeans(n_clusters=cluster_num, random_state = 0)\n",
        "    kmeans.fit(input)\n",
        "    return kmeans.labels_\n",
        "\n",
        "  elif cmd == 'minibatch':\n",
        "    from sklearn.cluster import MiniBatchKMeans\n",
        "    mb_kmeans = MiniBatchKMeans(n_clusters=cluster_num,random_state=0, batch_size=6)\n",
        "    mb_kmeans.fit(input)\n",
        "    return mb_kmeans.labels_\n",
        "\n",
        "  elif cmd == 'dbscan':\n",
        "    from sklearn.cluster import DBSCAN\n",
        "    dbscan = DBSCAN(eps=1.3, min_samples=2)\n",
        "    dbscan.fit(input)\n",
        "    return dbscan.labels_\n",
        "\n",
        "  elif cmd == 'birch':\n",
        "    from sklearn.cluster import Birch\n",
        "    brc = Birch(threshold=0.3, branching_factor=5, n_clusters=10)\n",
        "    brc.fit(input)\n",
        "    return brc.labels_"
      ],
      "execution_count": 16,
      "outputs": []
    },
    {
      "cell_type": "code",
      "metadata": {
        "id": "2keTLpVvpKsb"
      },
      "source": [
        "method = 'birch'\n",
        "labels = clustering_method(method, len(cluster_list), x)\n",
        "\n",
        "groups = {}\n",
        "# holds the cluster id and the images { id: [images] }\n",
        "for filename, cluster in zip(filenames, labels):\n",
        "    if cluster not in groups.keys():\n",
        "        groups[cluster] = []\n",
        "        groups[cluster].append(filename)\n",
        "    else:\n",
        "        groups[cluster].append(filename)"
      ],
      "execution_count": 35,
      "outputs": []
    },
    {
      "cell_type": "code",
      "metadata": {
        "id": "t53IwqhFWkkm"
      },
      "source": [
        "#make cluster_dict for calculate acc\n",
        "cluster_dict = {}\n",
        "for cluster in groups:\n",
        "  image_count = []\n",
        "  image_name = []\n",
        "  for image in groups[cluster]:\n",
        "    image_name.append(image.split('/')[-2])\n",
        "  for name in cluster_list:\n",
        "    image_count.append(image_name.count(name))\n",
        "\n",
        "  cluster_dict[cluster] = cluster_list[image_count.index(max(image_count))]"
      ],
      "execution_count": 36,
      "outputs": []
    },
    {
      "cell_type": "code",
      "metadata": {
        "colab": {
          "base_uri": "https://localhost:8080/"
        },
        "id": "YYDq_eN2JqEo",
        "outputId": "6c1c2ca8-a8fc-4e4f-b204-66d5b5c62c43"
      },
      "source": [
        "for i in range(len(cluster_dict) - 1):\n",
        "  print(str(cluster_dict[i]) + ' : ' + str(len(groups[i])))"
      ],
      "execution_count": 37,
      "outputs": [
        {
          "output_type": "stream",
          "text": [
            "moustache : 99\n",
            "cat : 71\n",
            "cloud : 62\n",
            "nose : 53\n",
            "triangle : 73\n",
            "cat : 51\n",
            "dog : 69\n",
            "ear : 20\n",
            "circle : 64\n"
          ],
          "name": "stdout"
        }
      ]
    },
    {
      "cell_type": "code",
      "metadata": {
        "id": "i-h67GBtUktY"
      },
      "source": [
        "#Save clustered image\n",
        "from PIL import Image        \n",
        "for cluster in groups:\n",
        "    for image in groups[cluster]:\n",
        "        path = save_path + '/' + str(cluster) + '_' + str(cluster_dict[cluster]) + '/'\n",
        "        if os.path.isdir(path) == False:\n",
        "            os.makedirs(path)\n",
        "        img = Image.open(image)\n",
        "        img.save(path + image.split('/')[-1])  "
      ],
      "execution_count": 39,
      "outputs": []
    },
    {
      "cell_type": "code",
      "metadata": {
        "id": "yFPSTHkadqJE",
        "colab": {
          "base_uri": "https://localhost:8080/",
          "height": 560
        },
        "outputId": "73a88008-4096-44e3-926a-173dcbf9fbf2"
      },
      "source": [
        "#Acc\n",
        "from sklearn.metrics import f1_score\n",
        "pred = []\n",
        "gt = []    \n",
        "for cluster in groups:\n",
        "    for draw in groups[cluster]:\n",
        "        pred.append(cluster_dict[cluster])\n",
        "        gt.append(draw.split('/')[-2])\n",
        "\n",
        "import plotly.express as px\n",
        "from plotly.offline import plot\n",
        "fig = px.scatter(x, x=0, y=1, color=labels)\n",
        "fig.show()\n",
        "print(\"F1 ACC: \" + str(f1_score(gt, pred, average='micro') * 100))"
      ],
      "execution_count": 40,
      "outputs": [
        {
          "output_type": "display_data",
          "data": {
            "text/html": [
              "<html>\n",
              "<head><meta charset=\"utf-8\" /></head>\n",
              "<body>\n",
              "    <div>\n",
              "            <script src=\"https://cdnjs.cloudflare.com/ajax/libs/mathjax/2.7.5/MathJax.js?config=TeX-AMS-MML_SVG\"></script><script type=\"text/javascript\">if (window.MathJax) {MathJax.Hub.Config({SVG: {font: \"STIX-Web\"}});}</script>\n",
              "                <script type=\"text/javascript\">window.PlotlyConfig = {MathJaxConfig: 'local'};</script>\n",
              "        <script src=\"https://cdn.plot.ly/plotly-latest.min.js\"></script>    \n",
              "            <div id=\"f5d29d32-0c3f-418f-a6da-44e6756241df\" class=\"plotly-graph-div\" style=\"height:525px; width:100%;\"></div>\n",
              "            <script type=\"text/javascript\">\n",
              "                \n",
              "                    window.PLOTLYENV=window.PLOTLYENV || {};\n",
              "                    \n",
              "                if (document.getElementById(\"f5d29d32-0c3f-418f-a6da-44e6756241df\")) {\n",
              "                    Plotly.newPlot(\n",
              "                        'f5d29d32-0c3f-418f-a6da-44e6756241df',\n",
              "                        [{\"hoverlabel\": {\"namelength\": 0}, \"hovertemplate\": \"0=%{x}<br>1=%{y}<br>color=%{marker.color}\", \"legendgroup\": \"\", \"marker\": {\"color\": [3, 3, 7, 3, 3, 7, 7, 3, 7, 3, 7, 7, 3, 3, 3, 7, 3, 3, 3, 3, 7, 3, 7, 7, 7, 7, 7, 7, 7, 7, 7, 3, 3, 3, 3, 3, 3, 7, 7, 7, 8, 8, 8, 8, 8, 8, 8, 8, 8, 8, 8, 8, 8, 8, 8, 8, 8, 8, 8, 8, 8, 8, 8, 8, 8, 8, 8, 8, 8, 8, 8, 8, 8, 8, 8, 8, 8, 8, 8, 8, 8, 8, 8, 8, 8, 8, 8, 8, 8, 8, 8, 8, 8, 8, 8, 8, 8, 8, 8, 8, 8, 5, 1, 1, 5, 1, 1, 1, 6, 1, 9, 1, 5, 1, 5, 5, 6, 1, 5, 5, 1, 5, 5, 1, 1, 5, 9, 3, 1, 1, 1, 5, 5, 1, 9, 1, 1, 1, 2, 5, 1, 5, 5, 5, 5, 1, 9, 5, 1, 1, 1, 1, 1, 1, 5, 6, 2, 5, 5, 9, 9, 5, 5, 1, 1, 9, 5, 9, 1, 5, 2, 5, 5, 5, 1, 5, 5, 1, 9, 5, 1, 2, 5, 1, 2, 1, 5, 1, 5, 5, 1, 5, 1, 1, 2, 2, 5, 9, 5, 1, 1, 6, 1, 1, 6, 1, 9, 9, 6, 9, 1, 1, 6, 5, 9, 1, 1, 1, 1, 9, 2, 9, 6, 1, 1, 1, 2, 6, 9, 6, 9, 1, 1, 9, 9, 9, 6, 6, 6, 2, 9, 6, 9, 5, 9, 6, 1, 9, 6, 1, 1, 5, 6, 6, 9, 5, 6, 5, 5, 1, 6, 9, 2, 9, 6, 9, 9, 6, 6, 6, 4, 1, 9, 6, 6, 6, 6, 6, 6, 5, 1, 6, 6, 9, 2, 1, 1, 1, 6, 6, 6, 1, 9, 6, 9, 9, 9, 6, 9, 6, 6, 1, 6, 6, 9, 9, 6, 6, 6, 9, 6, 9, 9, 6, 6, 4, 3, 3, 4, 3, 3, 3, 3, 4, 3, 3, 4, 3, 3, 3, 3, 4, 3, 2, 3, 3, 3, 3, 3, 3, 3, 4, 0, 4, 5, 3, 3, 4, 3, 4, 4, 3, 3, 4, 3, 3, 4, 4, 3, 3, 4, 2, 0, 0, 1, 0, 0, 0, 0, 0, 0, 0, 0, 0, 0, 0, 0, 0, 0, 2, 0, 0, 0, 0, 0, 0, 0, 0, 0, 0, 0, 0, 0, 0, 0, 0, 0, 0, 0, 1, 0, 0, 4, 4, 4, 4, 3, 4, 4, 4, 4, 4, 4, 4, 4, 4, 4, 4, 4, 4, 4, 4, 4, 4, 4, 4, 4, 4, 4, 4, 4, 4, 4, 4, 4, 4, 4, 4, 4, 4, 4, 4, 4, 3, 4, 4, 4, 4, 4, 4, 4, 4, 4, 4, 4, 4, 4, 4, 4, 4, 3, 4, 2, 2, 2, 5, 2, 2, 2, 2, 2, 8, 6, 2, 2, 2, 1, 2, 0, 2, 2, 2, 2, 2, 2, 2, 2, 2, 5, 4, 0, 2, 0, 2, 2, 2, 2, 2, 2, 2, 2, 2, 0, 0, 2, 2, 2, 2, 2, 5, 2, 2, 2, 0, 0, 2, 8, 0, 2, 0, 2, 2, 2, 2, 8, 2, 2, 0, 0, 0, 6, 0, 6, 6, 0, 6, 0, 0, 6, 0, 0, 6, 6, 0, 0, 5, 0, 0, 6, 6, 0, 6, 1, 6, 6, 0, 6, 6, 6, 6, 0, 6, 0, 0, 6, 6, 0, 0, 0, 0, 0, 1, 0, 0, 0, 0, 0, 0, 0, 0, 0, 0, 0, 0, 0, 0, 0, 0, 0, 0, 0, 9, 0, 0, 0, 9, 5, 0, 0, 0, 0, 6, 6, 9, 0, 0, 0], \"coloraxis\": \"coloraxis\", \"symbol\": \"circle\"}, \"mode\": \"markers\", \"name\": \"\", \"showlegend\": false, \"type\": \"scatter\", \"x\": [12.444074630737305, 9.057912826538086, 2.6016225814819336, 9.803685188293457, 13.126112937927246, -0.43954965472221375, -0.9336999654769897, 12.091573715209961, 2.3650381565093994, 10.912917137145996, -0.56895911693573, 1.6437989473342896, 9.775237083435059, 9.389501571655273, 10.987560272216797, -1.1850671768188477, 13.817748069763184, 12.035208702087402, 9.009296417236328, 12.708117485046387, -0.26284489035606384, 9.260635375976562, 3.8554787635803223, 0.8240355253219604, 2.721334934234619, 0.7498897314071655, -1.4839855432510376, -0.1968223601579666, 3.6195380687713623, 1.250885248184204, 1.3590097427368164, 14.134506225585938, 12.688248634338379, 8.061851501464844, 9.310213088989258, 9.449246406555176, 8.973617553710938, 0.20467883348464966, -1.4724074602127075, -1.2797216176986694, 21.20818328857422, 21.076183319091797, 22.286666870117188, 21.505311965942383, 18.278480529785156, 21.830251693725586, 19.559619903564453, 19.990556716918945, 19.12542152404785, 22.015409469604492, 17.031293869018555, 23.23382568359375, 24.01396942138672, 19.942049026489258, 23.447895050048828, 25.007465362548828, 20.92609977722168, 21.891908645629883, 21.907360076904297, 19.461999893188477, 17.311403274536133, 20.119417190551758, 16.487506866455078, 23.47345733642578, 16.820255279541016, 19.688688278198242, 17.19169807434082, 16.188138961791992, 20.920324325561523, 23.914649963378906, 18.996780395507812, 19.349889755249023, 16.955778121948242, 18.58839225769043, 18.486385345458984, 21.291959762573242, 22.532968521118164, 20.370929718017578, 18.54530143737793, 23.417661666870117, 19.65985679626465, 21.94232177734375, 23.658981323242188, 23.97237205505371, 24.98689079284668, 19.976200103759766, 18.03908348083496, 20.19384002685547, 17.056955337524414, 20.66419219970703, 21.30276107788086, 23.578065872192383, 17.232999801635742, 22.77350425720215, 23.06876564025879, 16.06374740600586, 18.22161293029785, 20.79520606994629, 17.854454040527344, 18.58451271057129, 20.641456604003906, -2.7692856788635254, -10.582194328308105, -3.5227437019348145, -9.724992752075195, -6.0797038078308105, -10.187703132629395, -3.8663978576660156, -18.39614486694336, -9.286219596862793, -6.708498477935791, -4.911733150482178, -2.2506892681121826, -5.450961112976074, -1.694765329360962, -4.220892906188965, -18.834186553955078, -2.046938180923462, -1.1669871807098389, -4.201956748962402, -5.420112609863281, -4.901365280151367, -1.7755162715911865, -0.8780425190925598, -2.826946973800659, 2.821136713027954, -6.488417148590088, 16.11786651611328, -9.204290390014648, -8.771641731262207, -6.664254665374756, -8.233766555786133, -2.9365181922912598, -8.4209566116333, -12.42735767364502, -8.032014846801758, -3.0983166694641113, -8.909172058105469, 2.1035068035125732, -1.5726040601730347, -5.751791954040527, 1.0370699167251587, -0.48720255494117737, -2.265758752822876, -0.014980114996433258, -4.3139872550964355, -6.227913856506348, -2.791783332824707, -9.168513298034668, -8.036284446716309, -4.177616119384766, -6.647275924682617, -5.5498480796813965, -8.232038497924805, -1.7500611543655396, -18.475318908691406, 8.044756889343262, -0.1702599972486496, -1.8521053791046143, -5.519563674926758, -7.38707971572876, -1.465751051902771, -2.857030153274536, -7.340662002563477, -6.0981364250183105, -6.4489426612854, -2.763716220855713, -5.562662601470947, -5.004855632781982, -2.7889301776885986, 12.548590660095215, -2.975353956222534, -4.226996421813965, 1.035136103630066, -8.87039852142334, 0.08230552077293396, -1.6523429155349731, -9.791159629821777, -11.187520027160645, -5.188281536102295, -7.761369705200195, 6.258693695068359, -4.269614219665527, -4.5171427726745605, 8.404247283935547, -3.89457631111145, -4.498955249786377, -8.022982597351074, 1.3989108800888062, -7.12906551361084, -8.497817993164062, 2.2817764282226562, -3.370738983154297, -4.434288024902344, 7.759026050567627, 9.941170692443848, -3.0359323024749756, -6.303287982940674, 1.0280036926269531, -8.463601112365723, -5.382711410522461, -15.201191902160645, -9.82425594329834, -4.607437610626221, -14.077797889709473, -10.699846267700195, -9.58541488647461, -13.22481632232666, -12.493941307067871, -16.998645782470703, -11.018534660339355, -11.211958885192871, -12.37134838104248, -0.5241198539733887, -11.466341972351074, -10.980704307556152, -7.621132850646973, -7.408848285675049, -5.923114776611328, -6.879857540130615, 3.5066819190979004, -5.681656837463379, -12.960639953613281, -11.662518501281738, -9.631277084350586, -7.331241130828857, 14.735038757324219, -13.738275527954102, -12.189021110534668, -16.687721252441406, -5.983180522918701, -5.886968612670898, -3.8792707920074463, -12.898468971252441, -14.706876754760742, -5.71705436706543, -18.446687698364258, -16.44932746887207, -14.301824569702148, 4.26507568359375, -7.856523036956787, -14.733498573303223, -7.838172435760498, 0.021300017833709717, -8.942045211791992, -16.564882278442383, -7.158383846282959, -10.838963508605957, -15.324707984924316, -5.457963466644287, -7.566154479980469, -3.996934652328491, -15.351354598999023, -14.792964935302734, -12.351308822631836, 3.695716619491577, -17.20439338684082, -3.748704433441162, 2.1048569679260254, -2.037452220916748, -15.288830757141113, -11.11899185180664, 13.453083038330078, -13.07667064666748, -14.669638633728027, -11.26942253112793, -17.935544967651367, -13.628450393676758, -12.473732948303223, -19.036989212036133, 19.456830978393555, -6.20281982421875, -8.000910758972168, -13.074759483337402, -13.384477615356445, -12.848267555236816, -14.22768497467041, -19.104324340820312, -15.241710662841797, -7.110246658325195, -11.30591106414795, -13.693724632263184, -16.232540130615234, -9.516300201416016, 0.9691198468208313, -2.6870007514953613, -1.7336453199386597, -12.589509963989258, -13.54956340789795, -14.686239242553711, -15.783031463623047, -12.2345552444458, -9.586996078491211, -15.975037574768066, -13.929850578308105, -10.619304656982422, -8.68046760559082, -16.0130615234375, -10.8970308303833, -12.156980514526367, -14.023530006408691, -2.13600754737854, -14.49428939819336, -18.17938804626465, -12.477527618408203, -13.887866973876953, -14.634081840515137, -13.693907737731934, -13.819705963134766, -10.778152465820312, -14.423213958740234, -13.091201782226562, -14.07571029663086, -18.503982543945312, -16.250591278076172, 14.308674812316895, 15.401517868041992, 14.860177040100098, 11.173683166503906, 17.22273826599121, 19.710248947143555, 17.701045989990234, 19.101062774658203, 12.456842422485352, 21.386953353881836, 19.57041358947754, 13.604068756103516, 12.889019012451172, 21.8062801361084, 15.244830131530762, 13.423561096191406, 15.976286888122559, 20.167184829711914, 6.105318546295166, 16.036510467529297, 12.996023178100586, 15.350495338439941, 18.139915466308594, 12.849639892578125, 15.140303611755371, 19.51213836669922, 17.204402923583984, -0.23210307955741882, 12.698447227478027, -0.964196503162384, 10.920330047607422, 15.300403594970703, 13.609895706176758, 16.91873550415039, 12.763516426086426, 17.506824493408203, 15.67566204071045, 20.4912052154541, 15.871846199035645, 16.92979621887207, 18.697702407836914, 19.037668228149414, 17.4807071685791, 19.14191246032715, 11.645106315612793, 13.769575119018555, 8.29074478149414, -3.9695470333099365, -8.128438949584961, -5.735032081604004, -5.244474411010742, -9.564691543579102, -5.708132266998291, -7.573615550994873, -11.546911239624023, -4.363236427307129, -10.329638481140137, -9.983543395996094, -4.420055866241455, -11.386430740356445, -10.161330223083496, -12.450971603393555, -4.735128402709961, -10.023908615112305, 0.5502426028251648, -5.876580715179443, -6.09951639175415, -3.433105230331421, -9.505298614501953, -7.233760356903076, -7.742218494415283, -9.784584045410156, -4.702690601348877, -8.409313201904297, -7.5149946212768555, -11.013059616088867, -6.510439872741699, -5.954085826873779, -7.171610355377197, -8.685336112976074, -5.370140552520752, -10.790802955627441, -8.735243797302246, -7.759754657745361, -11.494166374206543, -8.96636962890625, -8.555743217468262, 22.650163650512695, 21.2469425201416, 11.946633338928223, 23.814714431762695, 14.759193420410156, 18.183483123779297, 21.66985511779785, 21.344980239868164, 11.114429473876953, 22.617843627929688, 22.650787353515625, 20.25001335144043, 12.34731674194336, 21.579631805419922, 10.483099937438965, 14.66915512084961, 20.21672821044922, 11.36104679107666, 13.370625495910645, 14.838351249694824, 21.31686782836914, 15.902070999145508, 22.947134017944336, 16.0916748046875, 16.947599411010742, 8.724869728088379, 9.816481590270996, 20.86200523376465, 20.313596725463867, 18.38571548461914, 20.113121032714844, 21.01521110534668, 11.486430168151855, 11.417459487915039, 12.64146900177002, 18.524818420410156, 18.483840942382812, 23.84634017944336, 21.734100341796875, 19.873859405517578, 20.037336349487305, 21.066221237182617, 19.461259841918945, 22.795154571533203, 20.01618194580078, 16.219030380249023, 11.730693817138672, 20.24528694152832, 22.542400360107422, 20.92155647277832, 20.29591941833496, 17.317031860351562, 21.625934600830078, 14.79104232788086, 13.687189102172852, 22.52853775024414, 12.932831764221191, 20.19583511352539, 10.326019287109375, 18.42481231689453, 4.195847988128662, 2.203660488128662, 3.6084117889404297, -3.589770793914795, 1.070813775062561, 3.796863555908203, 10.061715126037598, 4.66389274597168, 10.321094512939453, 14.066533088684082, -13.290841102600098, 10.939937591552734, 7.283862590789795, 0.8679655194282532, -11.124679565429688, 1.6982611417770386, -11.727718353271484, 2.090519666671753, 7.316832542419434, 9.13398551940918, 9.710976600646973, 10.681855201721191, 8.15926742553711, 4.211052417755127, 12.109479904174805, 9.815888404846191, -0.08060761541128159, 9.581783294677734, -4.629367828369141, 5.021603584289551, -12.667014122009277, 4.331873416900635, 6.199887752532959, 3.51719331741333, 8.0726957321167, 7.802274227142334, 1.3722895383834839, 6.135165214538574, 2.2781295776367188, 6.45889139175415, -8.132880210876465, -11.661662101745605, 10.255520820617676, 3.9550669193267822, 8.041653633117676, 5.510869979858398, 3.9580307006835938, 5.260870933532715, 5.631694316864014, 4.183582782745361, 2.4323034286499023, -12.209609031677246, -10.139653205871582, 5.062440395355225, 15.41756820678711, -10.169626235961914, 5.556734561920166, -13.102502822875977, 0.7133814096450806, 7.039510726928711, 8.936925888061523, 3.06683611869812, 17.994535446166992, 2.2301719188690186, 1.4953378438949585, -15.893306732177734, -16.7442684173584, -17.213592529296875, -17.713390350341797, -15.556546211242676, -16.287626266479492, -14.884300231933594, -18.027660369873047, -17.120676040649414, -16.216678619384766, -15.912632942199707, -19.12445831298828, -15.17573070526123, -16.111417770385742, -16.605131149291992, -18.126808166503906, -13.988205909729004, -16.707687377929688, -6.769978046417236, -13.02127742767334, -15.652711868286133, -21.88628578186035, -22.011117935180664, -14.731416702270508, -16.768096923828125, -11.172816276550293, -16.87483024597168, -20.269315719604492, -15.017688751220703, -20.392230987548828, -15.742432594299316, -20.13264274597168, -19.63460922241211, -14.21407699584961, -20.3783016204834, -12.781371116638184, -16.354602813720703, -20.560049057006836, -20.955673217773438, -16.298402786254883, -12.2554931640625, -10.12451457977295, -12.857585906982422, -14.511064529418945, -7.082184791564941, -11.94802474975586, -6.215379238128662, -11.462432861328125, -12.815237045288086, -12.41069221496582, -11.966084480285645, -5.881321907043457, -6.593718528747559, -13.971281051635742, -12.313369750976562, -12.748372077941895, -14.027531623840332, -7.089768886566162, -13.73198413848877, -15.667436599731445, -19.72065544128418, -18.653697967529297, -19.613271713256836, -19.634376525878906, -16.407203674316406, -18.955251693725586, -20.503860473632812, -18.663284301757812, -15.790434837341309, 0.4712713062763214, -21.213111877441406, -19.20850372314453, -18.569852828979492, -17.93736457824707, -22.201953887939453, -22.55658531188965, -15.719510078430176, -19.596012115478516, -21.657527923583984, -18.76577377319336], \"xaxis\": \"x\", \"y\": [-11.58957290649414, -11.452455520629883, -10.557547569274902, -13.705584526062012, -11.047987937927246, -8.082572937011719, -7.534754276275635, -10.133830070495605, -11.028376579284668, -9.209997177124023, -7.627776622772217, -8.931623458862305, -11.271198272705078, -10.83755874633789, -10.619765281677246, -11.314160346984863, -9.804475784301758, -9.531225204467773, -9.620054244995117, -10.959453582763672, -6.926767349243164, -12.786782264709473, -9.173199653625488, -10.770833015441895, -11.460820198059082, -11.338643074035645, -10.008761405944824, -10.603656768798828, -11.418652534484863, -10.079317092895508, -12.156742095947266, -10.728951454162598, -9.375428199768066, -9.929120063781738, -13.353985786437988, -12.448058128356934, -9.73121166229248, -8.401290893554688, -8.692460060119629, -10.222004890441895, 10.578399658203125, 14.681428909301758, 18.43208122253418, 12.338743209838867, 16.889184951782227, 15.34104061126709, 16.984464645385742, 13.929422378540039, 13.69251537322998, 13.311529159545898, 14.247851371765137, 10.87460994720459, 16.37163734436035, 15.142599105834961, 13.004740715026855, 16.9970645904541, 14.11154842376709, 11.362577438354492, 16.884504318237305, 17.24079704284668, 13.658267974853516, 10.355031967163086, 12.294562339782715, 10.645029067993164, 17.79296875, 16.298673629760742, 16.102779388427734, 13.884190559387207, 15.503291130065918, 17.0053653717041, 15.169280052185059, 12.05603313446045, 14.661964416503906, 12.498664855957031, 16.041812896728516, 11.540387153625488, 13.939717292785645, 14.998831748962402, 14.363771438598633, 17.892515182495117, 12.754840850830078, 14.626980781555176, 18.716678619384766, 13.009458541870117, 15.197616577148438, 19.02499771118164, 15.117042541503906, 11.129118919372559, 12.037858009338379, 13.278448104858398, 16.418630599975586, 16.6983642578125, 11.143401145935059, 12.446434020996094, 14.781937599182129, 16.07240867614746, 14.243185997009277, 16.88713264465332, 12.915613174438477, 13.67536449432373, 12.079288482666016, 12.188508987426758, 7.367645263671875, 4.410068035125732, 19.76624870300293, 5.409029006958008, 8.314164161682129, 6.106560230255127, 1.7232848405838013, 7.403726100921631, 13.317279815673828, 2.75054931640625, 13.71970272064209, 3.8050179481506348, 8.639154434204102, 15.804390907287598, -2.5721418857574463, 0.7165622115135193, 13.144039154052734, 13.559199333190918, 5.876157283782959, 17.838382720947266, 16.958070755004883, 3.098879098892212, 2.0737643241882324, 13.02625846862793, 14.18539810180664, -8.941224098205566, 1.4694738388061523, 2.204306125640869, 5.970169544219971, 16.689544677734375, 19.001314163208008, 5.242717742919922, 18.103883743286133, -2.1368637084960938, 7.065328121185303, -1.4752024412155151, -6.135893821716309, 15.65487289428711, -2.5710525512695312, 11.265016555786133, 18.347309112548828, 11.060957908630371, 17.199665069580078, 7.363918304443359, 10.71838092803955, 10.539496421813965, 6.174662113189697, 0.9438202977180481, 7.211448669433594, 3.650491952896118, -1.1224228143692017, 3.259289503097534, 14.972481727600098, -2.3145604133605957, 16.169679641723633, 15.815831184387207, 7.119091033935547, 11.081768035888672, 12.124505996704102, 7.164330959320068, 9.104498863220215, 1.9272596836090088, 4.701416015625, 14.115368843078613, 16.010042190551758, 11.08205795288086, 7.796748161315918, 14.132210731506348, 8.264312744140625, 14.853683471679688, 16.296905517578125, 15.787065505981445, -1.4685403108596802, 16.572065353393555, 11.549558639526367, -8.55117130279541, 8.91545295715332, 18.92202377319336, 7.1868720054626465, -0.2924492061138153, 13.448183059692383, 9.427271842956543, 17.592378616333008, 7.99289608001709, 12.148448944091797, 0.42430734634399414, 17.161314010620117, 17.057270050048828, 6.809305667877197, 12.797964096069336, 3.7959580421447754, 1.6030670404434204, 16.924436569213867, 17.50823211669922, 17.447175979614258, 9.346654891967773, 10.71623420715332, 4.0132246017456055, 2.407550096511841, 4.611327171325684, -4.0893964767456055, -2.1564011573791504, -0.9322471022605896, 3.8305320739746094, 11.980006217956543, 15.5283784866333, 2.997530460357666, 11.38259506225586, 3.0688419342041016, 3.8561930656433105, 7.205502033233643, 9.413610458374023, 11.774346351623535, 5.729654312133789, -5.723444938659668, -3.2470052242279053, -4.548909664154053, 10.262572288513184, -1.3614051342010498, 14.742471694946289, 2.427057981491089, 4.729610443115234, -4.181934356689453, -6.878650665283203, 7.157749652862549, 7.116397380828857, 13.593033790588379, 6.696412563323975, 15.304466247558594, 0.9748744368553162, 0.03337060660123825, 9.995451927185059, 14.252500534057617, 12.582077026367188, 4.871380805969238, 2.9628963470458984, 3.592966079711914, -3.771949529647827, 14.942418098449707, -3.386333465576172, 8.951047897338867, 10.070651054382324, 9.8640775680542, -3.6131937503814697, 0.08883562684059143, 16.095277786254883, 3.0141313076019287, -1.9870450496673584, -5.113550662994385, 11.27303695678711, -2.0258922576904297, -2.106755256652832, 14.137290000915527, 15.662321090698242, -0.20135684311389923, 15.015469551086426, 10.693350791931152, 4.836184501647949, 1.0658129453659058, 13.459851264953613, 10.534424781799316, 11.61847972869873, 0.0631803646683693, 9.079174041748047, 11.64666748046875, 6.139105796813965, 7.519623279571533, 5.9752044677734375, 3.242607831954956, 7.700447082519531, 11.037999153137207, 0.6461542844772339, 0.3221181035041809, -0.013027738779783249, 8.486937522888184, 3.9253265857696533, -3.1487739086151123, 17.761098861694336, 5.000027656555176, 1.506934642791748, -3.7429819107055664, 14.656359672546387, -3.1879124641418457, -1.8853164911270142, -4.534304618835449, 4.638301372528076, 3.4600989818573, 5.913578510284424, 2.0929453372955322, 6.085900783538818, 11.133262634277344, 7.123476028442383, 11.199965476989746, 13.080949783325195, 13.278803825378418, 4.640728950500488, 9.656096458435059, 0.5758909583091736, 1.4406743049621582, -3.7524755001068115, 2.1563565731048584, 4.129642963409424, 9.402008056640625, 13.03316879272461, 4.30811882019043, 5.528620719909668, -2.0471646785736084, 10.521269798278809, -0.6321291327476501, 11.769270896911621, 13.385668754577637, 4.858833312988281, -0.6063752770423889, -0.0431307777762413, -13.16463851928711, -7.1899824142456055, 2.5418035984039307, -12.573776245117188, -12.51824951171875, -11.795369148254395, -13.399462699890137, -5.115158557891846, -14.789948463439941, -14.656177520751953, 2.6269547939300537, -17.777074813842773, -15.248188018798828, -16.169218063354492, -13.05492877960205, 1.076743245124817, -12.060927391052246, -6.99873685836792, -16.899084091186523, -17.94742202758789, -7.469649314880371, -10.005417823791504, -15.240814208984375, -14.460614204406738, -11.042033195495605, 5.143787384033203, -18.1876220703125, -7.335448741912842, 11.71532154083252, -15.20748233795166, -11.430634498596191, 4.499348163604736, -14.384669303894043, 2.4152231216430664, -1.135411262512207, -16.009458541870117, -12.60586929321289, 1.8122907876968384, -13.074067115783691, -15.245376586914062, -2.518221855163574, -6.77201509475708, -14.818142890930176, -15.825919151306152, 2.6899542808532715, 2.7191262245178223, -24.735984802246094, -18.56801986694336, -5.74714469909668, -16.634672164916992, -20.190967559814453, -20.602357864379883, -22.71245765686035, -15.575882911682129, -23.589942932128906, -16.10780906677246, -20.342599868774414, -24.207185745239258, -13.802956581115723, -21.51464080810547, -17.217830657958984, -21.647245407104492, -18.462303161621094, 0.746131420135498, -22.163724899291992, -22.048166275024414, -24.718578338623047, -17.733909606933594, -21.07674217224121, -19.919321060180664, -16.7412109375, -24.759075164794922, -16.589998245239258, -21.137773513793945, -17.643455505371094, -23.114267349243164, -23.89727210998535, -18.74385643005371, -21.31536102294922, -20.195985794067383, -17.504819869995117, -19.976682662963867, -23.492706298828125, -6.490361213684082, -23.27108383178711, -20.197433471679688, -5.363807678222656, -9.83264446258545, -1.2122647762298584, -3.029859781265259, -9.678483963012695, -5.657256126403809, -6.885269641876221, -8.893349647521973, -2.6445446014404297, -10.167722702026367, -8.951576232910156, -1.8235543966293335, -3.242880344390869, -2.774296522140503, -4.531583309173584, -2.555469512939453, -8.978073120117188, -5.235646724700928, -4.372461318969727, -4.727637767791748, -4.9740891456604, -4.537129878997803, -0.9883607625961304, -4.497297286987305, -3.7447097301483154, -5.13093376159668, -3.3137307167053223, 0.4002775251865387, -3.5975863933563232, -5.804603576660156, -5.37284517288208, 0.5550269484519958, -2.8408169746398926, -4.511308670043945, -2.1489434242248535, -5.1873860359191895, -4.355679035186768, -3.4158332347869873, -9.931840896606445, -6.4919352531433105, 0.09632106870412827, -13.07988166809082, -6.5408806800842285, -1.0478408336639404, -2.839047431945801, -5.28098201751709, -4.679005146026611, -8.797124862670898, -8.694249153137207, -10.318302154541016, -2.5591323375701904, -1.555971384048462, -8.401090621948242, -2.7520267963409424, -4.176178455352783, -3.1851110458374023, -2.8673501014709473, -5.209414958953857, -15.8380765914917, -7.7821855545043945, 4.461296081542969, 5.86704683303833, -0.4714241623878479, 20.804920196533203, 0.017527148127555847, 5.726694583892822, 8.915754318237305, 7.410834789276123, 10.100508689880371, 13.159455299377441, -4.32047176361084, 13.769951820373535, 9.568957328796387, 5.31130838394165, -9.70802116394043, 4.769453048706055, -12.397894859313965, 2.0677711963653564, 5.752481937408447, 13.182701110839844, 6.70479154586792, 13.000361442565918, 7.625345706939697, 1.631180763244629, 12.400846481323242, 5.910544395446777, 8.712576866149902, -1.4006946086883545, -19.464574813842773, 7.918726921081543, -11.769540786743164, 6.253056526184082, 4.264854431152344, 5.499314308166504, 4.790698528289795, 8.905214309692383, 7.284707069396973, 2.5011305809020996, 3.766331672668457, 3.1230175495147705, -17.55384063720703, -13.211263656616211, 9.861000061035156, 4.188154697418213, 7.357043743133545, 5.210134506225586, 2.7295660972595215, 11.580918312072754, 5.91246223449707, 4.401068210601807, 8.978572845458984, -13.462132453918457, -13.78481674194336, 3.617532730102539, 15.507972717285156, -11.817602157592773, 5.493703365325928, -14.991618156433105, 0.5627487897872925, 5.261366367340088, 8.148160934448242, 7.732735633850098, 8.742105484008789, 5.586575984954834, 3.4782767295837402, -10.843013763427734, -10.94604206085205, -10.789623260498047, -8.141691207885742, -10.856571197509766, -4.8631272315979, -6.255695819854736, -11.780694961547852, -9.138952255249023, -14.120433807373047, -12.959369659423828, -6.837515830993652, -13.041279792785645, -14.400431632995605, -6.310461521148682, -6.974020481109619, -14.344435691833496, -12.240225791931152, 20.396774291992188, -13.151025772094727, -11.755291938781738, -4.046887397766113, -2.5409276485443115, -14.217820167541504, -6.808845520019531, -2.020117998123169, -6.8587965965271, -8.711450576782227, -16.29934310913086, -3.7237908840179443, -8.048630714416504, -1.032378911972046, -3.9276912212371826, -12.201690673828125, -1.3834832906723022, -13.883148193359375, -12.844637870788574, -4.07566499710083, -2.805389165878296, -16.803333282470703, -19.002527236938477, -14.533066749572754, -18.3402156829834, -17.971357345581055, -8.073654174804688, -21.323984146118164, -11.841466903686523, -19.870031356811523, -20.118459701538086, -18.86387062072754, -21.508024215698242, -11.153331756591797, -12.59347152709961, -19.363122940063477, -20.988882064819336, -20.022218704223633, -20.033489227294922, -13.77529525756836, -18.953275680541992, -19.1541748046875, -17.062358856201172, -17.428321838378906, -15.712369918823242, -14.37668228149414, 9.127315521240234, -15.618021011352539, -13.762312889099121, -15.682168006896973, 9.597600936889648, 14.20408821105957, -13.466252326965332, -17.287538528442383, -15.846702575683594, -16.39632797241211, 1.515650987625122, 1.5430001020431519, 10.121844291687012, -18.466964721679688, -13.184503555297852, -18.10148048400879], \"yaxis\": \"y\"}],\n",
              "                        {\"coloraxis\": {\"colorbar\": {\"title\": {\"text\": \"color\"}}, \"colorscale\": [[0.0, \"#0d0887\"], [0.1111111111111111, \"#46039f\"], [0.2222222222222222, \"#7201a8\"], [0.3333333333333333, \"#9c179e\"], [0.4444444444444444, \"#bd3786\"], [0.5555555555555556, \"#d8576b\"], [0.6666666666666666, \"#ed7953\"], [0.7777777777777778, \"#fb9f3a\"], [0.8888888888888888, \"#fdca26\"], [1.0, \"#f0f921\"]]}, \"legend\": {\"tracegroupgap\": 0}, \"margin\": {\"t\": 60}, \"template\": {\"data\": {\"bar\": [{\"error_x\": {\"color\": \"#2a3f5f\"}, \"error_y\": {\"color\": \"#2a3f5f\"}, \"marker\": {\"line\": {\"color\": \"#E5ECF6\", \"width\": 0.5}}, \"type\": \"bar\"}], \"barpolar\": [{\"marker\": {\"line\": {\"color\": \"#E5ECF6\", \"width\": 0.5}}, \"type\": \"barpolar\"}], \"carpet\": [{\"aaxis\": {\"endlinecolor\": \"#2a3f5f\", \"gridcolor\": \"white\", \"linecolor\": \"white\", \"minorgridcolor\": \"white\", \"startlinecolor\": \"#2a3f5f\"}, \"baxis\": {\"endlinecolor\": \"#2a3f5f\", \"gridcolor\": \"white\", \"linecolor\": \"white\", \"minorgridcolor\": \"white\", \"startlinecolor\": \"#2a3f5f\"}, \"type\": \"carpet\"}], \"choropleth\": [{\"colorbar\": {\"outlinewidth\": 0, \"ticks\": \"\"}, \"type\": \"choropleth\"}], \"contour\": [{\"colorbar\": {\"outlinewidth\": 0, \"ticks\": \"\"}, \"colorscale\": [[0.0, \"#0d0887\"], [0.1111111111111111, \"#46039f\"], [0.2222222222222222, \"#7201a8\"], [0.3333333333333333, \"#9c179e\"], [0.4444444444444444, \"#bd3786\"], [0.5555555555555556, \"#d8576b\"], [0.6666666666666666, \"#ed7953\"], [0.7777777777777778, \"#fb9f3a\"], [0.8888888888888888, \"#fdca26\"], [1.0, \"#f0f921\"]], \"type\": \"contour\"}], \"contourcarpet\": [{\"colorbar\": {\"outlinewidth\": 0, \"ticks\": \"\"}, \"type\": \"contourcarpet\"}], \"heatmap\": [{\"colorbar\": {\"outlinewidth\": 0, \"ticks\": \"\"}, \"colorscale\": [[0.0, \"#0d0887\"], [0.1111111111111111, \"#46039f\"], [0.2222222222222222, \"#7201a8\"], [0.3333333333333333, \"#9c179e\"], [0.4444444444444444, \"#bd3786\"], [0.5555555555555556, \"#d8576b\"], [0.6666666666666666, \"#ed7953\"], [0.7777777777777778, \"#fb9f3a\"], [0.8888888888888888, \"#fdca26\"], [1.0, \"#f0f921\"]], \"type\": \"heatmap\"}], \"heatmapgl\": [{\"colorbar\": {\"outlinewidth\": 0, \"ticks\": \"\"}, \"colorscale\": [[0.0, \"#0d0887\"], [0.1111111111111111, \"#46039f\"], [0.2222222222222222, \"#7201a8\"], [0.3333333333333333, \"#9c179e\"], [0.4444444444444444, \"#bd3786\"], [0.5555555555555556, \"#d8576b\"], [0.6666666666666666, \"#ed7953\"], [0.7777777777777778, \"#fb9f3a\"], [0.8888888888888888, \"#fdca26\"], [1.0, \"#f0f921\"]], \"type\": \"heatmapgl\"}], \"histogram\": [{\"marker\": {\"colorbar\": {\"outlinewidth\": 0, \"ticks\": \"\"}}, \"type\": \"histogram\"}], \"histogram2d\": [{\"colorbar\": {\"outlinewidth\": 0, \"ticks\": \"\"}, \"colorscale\": [[0.0, \"#0d0887\"], [0.1111111111111111, \"#46039f\"], [0.2222222222222222, \"#7201a8\"], [0.3333333333333333, \"#9c179e\"], [0.4444444444444444, \"#bd3786\"], [0.5555555555555556, \"#d8576b\"], [0.6666666666666666, \"#ed7953\"], [0.7777777777777778, \"#fb9f3a\"], [0.8888888888888888, \"#fdca26\"], [1.0, \"#f0f921\"]], \"type\": \"histogram2d\"}], \"histogram2dcontour\": [{\"colorbar\": {\"outlinewidth\": 0, \"ticks\": \"\"}, \"colorscale\": [[0.0, \"#0d0887\"], [0.1111111111111111, \"#46039f\"], [0.2222222222222222, \"#7201a8\"], [0.3333333333333333, \"#9c179e\"], [0.4444444444444444, \"#bd3786\"], [0.5555555555555556, \"#d8576b\"], [0.6666666666666666, \"#ed7953\"], [0.7777777777777778, \"#fb9f3a\"], [0.8888888888888888, \"#fdca26\"], [1.0, \"#f0f921\"]], \"type\": \"histogram2dcontour\"}], \"mesh3d\": [{\"colorbar\": {\"outlinewidth\": 0, \"ticks\": \"\"}, \"type\": \"mesh3d\"}], \"parcoords\": [{\"line\": {\"colorbar\": {\"outlinewidth\": 0, \"ticks\": \"\"}}, \"type\": \"parcoords\"}], \"pie\": [{\"automargin\": true, \"type\": \"pie\"}], \"scatter\": [{\"marker\": {\"colorbar\": {\"outlinewidth\": 0, \"ticks\": \"\"}}, \"type\": \"scatter\"}], \"scatter3d\": [{\"line\": {\"colorbar\": {\"outlinewidth\": 0, \"ticks\": \"\"}}, \"marker\": {\"colorbar\": {\"outlinewidth\": 0, \"ticks\": \"\"}}, \"type\": \"scatter3d\"}], \"scattercarpet\": [{\"marker\": {\"colorbar\": {\"outlinewidth\": 0, \"ticks\": \"\"}}, \"type\": \"scattercarpet\"}], \"scattergeo\": [{\"marker\": {\"colorbar\": {\"outlinewidth\": 0, \"ticks\": \"\"}}, \"type\": \"scattergeo\"}], \"scattergl\": [{\"marker\": {\"colorbar\": {\"outlinewidth\": 0, \"ticks\": \"\"}}, \"type\": \"scattergl\"}], \"scattermapbox\": [{\"marker\": {\"colorbar\": {\"outlinewidth\": 0, \"ticks\": \"\"}}, \"type\": \"scattermapbox\"}], \"scatterpolar\": [{\"marker\": {\"colorbar\": {\"outlinewidth\": 0, \"ticks\": \"\"}}, \"type\": \"scatterpolar\"}], \"scatterpolargl\": [{\"marker\": {\"colorbar\": {\"outlinewidth\": 0, \"ticks\": \"\"}}, \"type\": \"scatterpolargl\"}], \"scatterternary\": [{\"marker\": {\"colorbar\": {\"outlinewidth\": 0, \"ticks\": \"\"}}, \"type\": \"scatterternary\"}], \"surface\": [{\"colorbar\": {\"outlinewidth\": 0, \"ticks\": \"\"}, \"colorscale\": [[0.0, \"#0d0887\"], [0.1111111111111111, \"#46039f\"], [0.2222222222222222, \"#7201a8\"], [0.3333333333333333, \"#9c179e\"], [0.4444444444444444, \"#bd3786\"], [0.5555555555555556, \"#d8576b\"], [0.6666666666666666, \"#ed7953\"], [0.7777777777777778, \"#fb9f3a\"], [0.8888888888888888, \"#fdca26\"], [1.0, \"#f0f921\"]], \"type\": \"surface\"}], \"table\": [{\"cells\": {\"fill\": {\"color\": \"#EBF0F8\"}, \"line\": {\"color\": \"white\"}}, \"header\": {\"fill\": {\"color\": \"#C8D4E3\"}, \"line\": {\"color\": \"white\"}}, \"type\": \"table\"}]}, \"layout\": {\"annotationdefaults\": {\"arrowcolor\": \"#2a3f5f\", \"arrowhead\": 0, \"arrowwidth\": 1}, \"coloraxis\": {\"colorbar\": {\"outlinewidth\": 0, \"ticks\": \"\"}}, \"colorscale\": {\"diverging\": [[0, \"#8e0152\"], [0.1, \"#c51b7d\"], [0.2, \"#de77ae\"], [0.3, \"#f1b6da\"], [0.4, \"#fde0ef\"], [0.5, \"#f7f7f7\"], [0.6, \"#e6f5d0\"], [0.7, \"#b8e186\"], [0.8, \"#7fbc41\"], [0.9, \"#4d9221\"], [1, \"#276419\"]], \"sequential\": [[0.0, \"#0d0887\"], [0.1111111111111111, \"#46039f\"], [0.2222222222222222, \"#7201a8\"], [0.3333333333333333, \"#9c179e\"], [0.4444444444444444, \"#bd3786\"], [0.5555555555555556, \"#d8576b\"], [0.6666666666666666, \"#ed7953\"], [0.7777777777777778, \"#fb9f3a\"], [0.8888888888888888, \"#fdca26\"], [1.0, \"#f0f921\"]], \"sequentialminus\": [[0.0, \"#0d0887\"], [0.1111111111111111, \"#46039f\"], [0.2222222222222222, \"#7201a8\"], [0.3333333333333333, \"#9c179e\"], [0.4444444444444444, \"#bd3786\"], [0.5555555555555556, \"#d8576b\"], [0.6666666666666666, \"#ed7953\"], [0.7777777777777778, \"#fb9f3a\"], [0.8888888888888888, \"#fdca26\"], [1.0, \"#f0f921\"]]}, \"colorway\": [\"#636efa\", \"#EF553B\", \"#00cc96\", \"#ab63fa\", \"#FFA15A\", \"#19d3f3\", \"#FF6692\", \"#B6E880\", \"#FF97FF\", \"#FECB52\"], \"font\": {\"color\": \"#2a3f5f\"}, \"geo\": {\"bgcolor\": \"white\", \"lakecolor\": \"white\", \"landcolor\": \"#E5ECF6\", \"showlakes\": true, \"showland\": true, \"subunitcolor\": \"white\"}, \"hoverlabel\": {\"align\": \"left\"}, \"hovermode\": \"closest\", \"mapbox\": {\"style\": \"light\"}, \"paper_bgcolor\": \"white\", \"plot_bgcolor\": \"#E5ECF6\", \"polar\": {\"angularaxis\": {\"gridcolor\": \"white\", \"linecolor\": \"white\", \"ticks\": \"\"}, \"bgcolor\": \"#E5ECF6\", \"radialaxis\": {\"gridcolor\": \"white\", \"linecolor\": \"white\", \"ticks\": \"\"}}, \"scene\": {\"xaxis\": {\"backgroundcolor\": \"#E5ECF6\", \"gridcolor\": \"white\", \"gridwidth\": 2, \"linecolor\": \"white\", \"showbackground\": true, \"ticks\": \"\", \"zerolinecolor\": \"white\"}, \"yaxis\": {\"backgroundcolor\": \"#E5ECF6\", \"gridcolor\": \"white\", \"gridwidth\": 2, \"linecolor\": \"white\", \"showbackground\": true, \"ticks\": \"\", \"zerolinecolor\": \"white\"}, \"zaxis\": {\"backgroundcolor\": \"#E5ECF6\", \"gridcolor\": \"white\", \"gridwidth\": 2, \"linecolor\": \"white\", \"showbackground\": true, \"ticks\": \"\", \"zerolinecolor\": \"white\"}}, \"shapedefaults\": {\"line\": {\"color\": \"#2a3f5f\"}}, \"ternary\": {\"aaxis\": {\"gridcolor\": \"white\", \"linecolor\": \"white\", \"ticks\": \"\"}, \"baxis\": {\"gridcolor\": \"white\", \"linecolor\": \"white\", \"ticks\": \"\"}, \"bgcolor\": \"#E5ECF6\", \"caxis\": {\"gridcolor\": \"white\", \"linecolor\": \"white\", \"ticks\": \"\"}}, \"title\": {\"x\": 0.05}, \"xaxis\": {\"automargin\": true, \"gridcolor\": \"white\", \"linecolor\": \"white\", \"ticks\": \"\", \"title\": {\"standoff\": 15}, \"zerolinecolor\": \"white\", \"zerolinewidth\": 2}, \"yaxis\": {\"automargin\": true, \"gridcolor\": \"white\", \"linecolor\": \"white\", \"ticks\": \"\", \"title\": {\"standoff\": 15}, \"zerolinecolor\": \"white\", \"zerolinewidth\": 2}}}, \"xaxis\": {\"anchor\": \"y\", \"domain\": [0.0, 1.0], \"title\": {\"text\": \"0\"}}, \"yaxis\": {\"anchor\": \"x\", \"domain\": [0.0, 1.0], \"title\": {\"text\": \"1\"}}},\n",
              "                        {\"responsive\": true}\n",
              "                    ).then(function(){\n",
              "                            \n",
              "var gd = document.getElementById('f5d29d32-0c3f-418f-a6da-44e6756241df');\n",
              "var x = new MutationObserver(function (mutations, observer) {{\n",
              "        var display = window.getComputedStyle(gd).display;\n",
              "        if (!display || display === 'none') {{\n",
              "            console.log([gd, 'removed!']);\n",
              "            Plotly.purge(gd);\n",
              "            observer.disconnect();\n",
              "        }}\n",
              "}});\n",
              "\n",
              "// Listen for the removal of the full notebook cells\n",
              "var notebookContainer = gd.closest('#notebook-container');\n",
              "if (notebookContainer) {{\n",
              "    x.observe(notebookContainer, {childList: true});\n",
              "}}\n",
              "\n",
              "// Listen for the clearing of the current output cell\n",
              "var outputEl = gd.closest('.output');\n",
              "if (outputEl) {{\n",
              "    x.observe(outputEl, {childList: true});\n",
              "}}\n",
              "\n",
              "                        })\n",
              "                };\n",
              "                \n",
              "            </script>\n",
              "        </div>\n",
              "</body>\n",
              "</html>"
            ]
          },
          "metadata": {
            "tags": []
          }
        },
        {
          "output_type": "stream",
          "text": [
            "F1 ACC: 66.88632619439868\n"
          ],
          "name": "stdout"
        }
      ]
    }
  ]
}