{
  "nbformat": 4,
  "nbformat_minor": 0,
  "metadata": {
    "colab": {
      "name": "filtered_image_testing.ipynb",
      "provenance": [],
      "collapsed_sections": []
    },
    "kernelspec": {
      "name": "python3",
      "display_name": "Python 3"
    },
    "language_info": {
      "name": "python"
    },
    "widgets": {
      "application/vnd.jupyter.widget-state+json": {
        "8d1d35f49a98414494bf54aa599cfb4d": {
          "model_module": "@jupyter-widgets/controls",
          "model_name": "HBoxModel",
          "state": {
            "_view_name": "HBoxView",
            "_dom_classes": [],
            "_model_name": "HBoxModel",
            "_view_module": "@jupyter-widgets/controls",
            "_model_module_version": "1.5.0",
            "_view_count": null,
            "_view_module_version": "1.5.0",
            "box_style": "",
            "layout": "IPY_MODEL_4b46a2b6826b45859b43045d303f4b4e",
            "_model_module": "@jupyter-widgets/controls",
            "children": [
              "IPY_MODEL_9d31ae7e3c4a4a6e9b7d00bd1831ec35",
              "IPY_MODEL_b1dd5f06bdb8492e9d426bf1da810914"
            ]
          }
        },
        "4b46a2b6826b45859b43045d303f4b4e": {
          "model_module": "@jupyter-widgets/base",
          "model_name": "LayoutModel",
          "state": {
            "_view_name": "LayoutView",
            "grid_template_rows": null,
            "right": null,
            "justify_content": null,
            "_view_module": "@jupyter-widgets/base",
            "overflow": null,
            "_model_module_version": "1.2.0",
            "_view_count": null,
            "flex_flow": null,
            "width": null,
            "min_width": null,
            "border": null,
            "align_items": null,
            "bottom": null,
            "_model_module": "@jupyter-widgets/base",
            "top": null,
            "grid_column": null,
            "overflow_y": null,
            "overflow_x": null,
            "grid_auto_flow": null,
            "grid_area": null,
            "grid_template_columns": null,
            "flex": null,
            "_model_name": "LayoutModel",
            "justify_items": null,
            "grid_row": null,
            "max_height": null,
            "align_content": null,
            "visibility": null,
            "align_self": null,
            "height": null,
            "min_height": null,
            "padding": null,
            "grid_auto_rows": null,
            "grid_gap": null,
            "max_width": null,
            "order": null,
            "_view_module_version": "1.2.0",
            "grid_template_areas": null,
            "object_position": null,
            "object_fit": null,
            "grid_auto_columns": null,
            "margin": null,
            "display": null,
            "left": null
          }
        },
        "9d31ae7e3c4a4a6e9b7d00bd1831ec35": {
          "model_module": "@jupyter-widgets/controls",
          "model_name": "FloatProgressModel",
          "state": {
            "_view_name": "ProgressView",
            "style": "IPY_MODEL_06bff6d185f84f8abfdf93bea2dccbb3",
            "_dom_classes": [],
            "description": "100%",
            "_model_name": "FloatProgressModel",
            "bar_style": "success",
            "max": 21388428,
            "_view_module": "@jupyter-widgets/controls",
            "_model_module_version": "1.5.0",
            "value": 21388428,
            "_view_count": null,
            "_view_module_version": "1.5.0",
            "orientation": "horizontal",
            "min": 0,
            "description_tooltip": null,
            "_model_module": "@jupyter-widgets/controls",
            "layout": "IPY_MODEL_4ec4e21c9181402da5a418accfb19104"
          }
        },
        "b1dd5f06bdb8492e9d426bf1da810914": {
          "model_module": "@jupyter-widgets/controls",
          "model_name": "HTMLModel",
          "state": {
            "_view_name": "HTMLView",
            "style": "IPY_MODEL_58f6e624e88a4f24a96ca17d9113e251",
            "_dom_classes": [],
            "description": "",
            "_model_name": "HTMLModel",
            "placeholder": "​",
            "_view_module": "@jupyter-widgets/controls",
            "_model_module_version": "1.5.0",
            "value": " 20.4M/20.4M [00:00&lt;00:00, 69.4MB/s]",
            "_view_count": null,
            "_view_module_version": "1.5.0",
            "description_tooltip": null,
            "_model_module": "@jupyter-widgets/controls",
            "layout": "IPY_MODEL_fd35271ed6dc4331a89e585e1439a59d"
          }
        },
        "06bff6d185f84f8abfdf93bea2dccbb3": {
          "model_module": "@jupyter-widgets/controls",
          "model_name": "ProgressStyleModel",
          "state": {
            "_view_name": "StyleView",
            "_model_name": "ProgressStyleModel",
            "description_width": "initial",
            "_view_module": "@jupyter-widgets/base",
            "_model_module_version": "1.5.0",
            "_view_count": null,
            "_view_module_version": "1.2.0",
            "bar_color": null,
            "_model_module": "@jupyter-widgets/controls"
          }
        },
        "4ec4e21c9181402da5a418accfb19104": {
          "model_module": "@jupyter-widgets/base",
          "model_name": "LayoutModel",
          "state": {
            "_view_name": "LayoutView",
            "grid_template_rows": null,
            "right": null,
            "justify_content": null,
            "_view_module": "@jupyter-widgets/base",
            "overflow": null,
            "_model_module_version": "1.2.0",
            "_view_count": null,
            "flex_flow": null,
            "width": null,
            "min_width": null,
            "border": null,
            "align_items": null,
            "bottom": null,
            "_model_module": "@jupyter-widgets/base",
            "top": null,
            "grid_column": null,
            "overflow_y": null,
            "overflow_x": null,
            "grid_auto_flow": null,
            "grid_area": null,
            "grid_template_columns": null,
            "flex": null,
            "_model_name": "LayoutModel",
            "justify_items": null,
            "grid_row": null,
            "max_height": null,
            "align_content": null,
            "visibility": null,
            "align_self": null,
            "height": null,
            "min_height": null,
            "padding": null,
            "grid_auto_rows": null,
            "grid_gap": null,
            "max_width": null,
            "order": null,
            "_view_module_version": "1.2.0",
            "grid_template_areas": null,
            "object_position": null,
            "object_fit": null,
            "grid_auto_columns": null,
            "margin": null,
            "display": null,
            "left": null
          }
        },
        "58f6e624e88a4f24a96ca17d9113e251": {
          "model_module": "@jupyter-widgets/controls",
          "model_name": "DescriptionStyleModel",
          "state": {
            "_view_name": "StyleView",
            "_model_name": "DescriptionStyleModel",
            "description_width": "",
            "_view_module": "@jupyter-widgets/base",
            "_model_module_version": "1.5.0",
            "_view_count": null,
            "_view_module_version": "1.2.0",
            "_model_module": "@jupyter-widgets/controls"
          }
        },
        "fd35271ed6dc4331a89e585e1439a59d": {
          "model_module": "@jupyter-widgets/base",
          "model_name": "LayoutModel",
          "state": {
            "_view_name": "LayoutView",
            "grid_template_rows": null,
            "right": null,
            "justify_content": null,
            "_view_module": "@jupyter-widgets/base",
            "overflow": null,
            "_model_module_version": "1.2.0",
            "_view_count": null,
            "flex_flow": null,
            "width": null,
            "min_width": null,
            "border": null,
            "align_items": null,
            "bottom": null,
            "_model_module": "@jupyter-widgets/base",
            "top": null,
            "grid_column": null,
            "overflow_y": null,
            "overflow_x": null,
            "grid_auto_flow": null,
            "grid_area": null,
            "grid_template_columns": null,
            "flex": null,
            "_model_name": "LayoutModel",
            "justify_items": null,
            "grid_row": null,
            "max_height": null,
            "align_content": null,
            "visibility": null,
            "align_self": null,
            "height": null,
            "min_height": null,
            "padding": null,
            "grid_auto_rows": null,
            "grid_gap": null,
            "max_width": null,
            "order": null,
            "_view_module_version": "1.2.0",
            "grid_template_areas": null,
            "object_position": null,
            "object_fit": null,
            "grid_auto_columns": null,
            "margin": null,
            "display": null,
            "left": null
          }
        }
      }
    }
  },
  "cells": [
    {
      "cell_type": "code",
      "metadata": {
        "colab": {
          "base_uri": "https://localhost:8080/"
        },
        "id": "tCb6aoCWhNoQ",
        "outputId": "a1dd8451-e537-4a25-fea6-0087d854856c"
      },
      "source": [
        "!pip install efficientnet_pytorch"
      ],
      "execution_count": 1,
      "outputs": [
        {
          "output_type": "stream",
          "text": [
            "Collecting efficientnet_pytorch\n",
            "  Downloading efficientnet_pytorch-0.7.1.tar.gz (21 kB)\n",
            "Requirement already satisfied: torch in /usr/local/lib/python3.7/dist-packages (from efficientnet_pytorch) (1.9.0+cu102)\n",
            "Requirement already satisfied: typing-extensions in /usr/local/lib/python3.7/dist-packages (from torch->efficientnet_pytorch) (3.7.4.3)\n",
            "Building wheels for collected packages: efficientnet-pytorch\n",
            "  Building wheel for efficientnet-pytorch (setup.py) ... \u001b[?25l\u001b[?25hdone\n",
            "  Created wheel for efficientnet-pytorch: filename=efficientnet_pytorch-0.7.1-py3-none-any.whl size=16446 sha256=d49c888d4b2e6312f76f188cb57ba61cdd620e0eff46253bea8c8e22a4b3127a\n",
            "  Stored in directory: /root/.cache/pip/wheels/0e/cc/b2/49e74588263573ff778da58cc99b9c6349b496636a7e165be6\n",
            "Successfully built efficientnet-pytorch\n",
            "Installing collected packages: efficientnet-pytorch\n",
            "Successfully installed efficientnet-pytorch-0.7.1\n"
          ],
          "name": "stdout"
        }
      ]
    },
    {
      "cell_type": "code",
      "metadata": {
        "id": "lKYXfduFhPf7"
      },
      "source": [
        "from efficientnet_pytorch import EfficientNet\n",
        "from sklearn.cluster import KMeans\n",
        "from sklearn.decomposition import PCA\n",
        "# from keras.applications.vgg16 import VGG16 \n",
        "# from keras.models import Model\n",
        "# from keras.applications.vgg16 import preprocess_input \n",
        "import os\n",
        "import logging\n",
        "import torch\n",
        "from torch import nn\n",
        "import pickle\n",
        "from tqdm import tqdm\n",
        "from torchvision import transforms\n",
        "import numpy as np\n",
        "import pandas as pd\n",
        "from PIL import Image\n",
        "import matplotlib.pyplot as plt"
      ],
      "execution_count": 2,
      "outputs": []
    },
    {
      "cell_type": "code",
      "metadata": {
        "id": "1Y73uRAWhUlw"
      },
      "source": [
        "#dataset path\n",
        "data_path = '/content/drive/MyDrive/Colab/Sketch_RNN_Together/Dataset/Filtered_img/'\n",
        "#feature path\n",
        "feat_path = \"/content/drive/MyDrive/Colab/Sketch_RNN/torch_sketch/features_filter.npy\"\n",
        "#filename path\n",
        "filename_path = \"/content/drive/MyDrive/Colab/Sketch_RNN/torch_sketch/filenames_filter.npy\"\n",
        "#cluster_list\n",
        "cluster_list_path = '/content/drive/MyDrive/Colab/Sketch_RNN_Together/Dataset/Filtered_img/cluster_list.txt'\n",
        "cluster_list = open(cluster_list_path , 'r').read().split('\\n')\n",
        "#image_save_path\n",
        "save_path = '/content/drive/MyDrive/Colab/Sketch_RNN/torch_sketch/Result/'\n",
        "#test_image_path\n",
        "test_data_path = '/content/drive/MyDrive/Colab/Sketch_RNN_Together/skku_Clustering/test_set/'\n",
        "# p = r\"/content/drive/MyDrive/Colab/Sketch_RNN/torch_sketch/sktch_log.pkl\""
      ],
      "execution_count": 3,
      "outputs": []
    },
    {
      "cell_type": "code",
      "metadata": {
        "id": "q-Kd4Q01hQtd"
      },
      "source": [
        "import glob\n",
        "data_list = []\n",
        "data_list = [files for files in glob.glob(data_path + '*/*.jpg')]\n",
        "new_data_list = [files for files in glob.glob(test_data_path + '*/*.jpg')]"
      ],
      "execution_count": 4,
      "outputs": []
    },
    {
      "cell_type": "code",
      "metadata": {
        "colab": {
          "base_uri": "https://localhost:8080/"
        },
        "id": "b7TSwiBQhSHq",
        "outputId": "22fba74c-c060-425d-fbf2-a01395013576"
      },
      "source": [
        "new_data_list[20:21]"
      ],
      "execution_count": 5,
      "outputs": [
        {
          "output_type": "execute_result",
          "data": {
            "text/plain": [
              "['/content/drive/MyDrive/Colab/Sketch_RNN_Together/skku_Clustering/test_set/cloud/test_cloud_1.jpg']"
            ]
          },
          "metadata": {
            "tags": []
          },
          "execution_count": 5
        }
      ]
    },
    {
      "cell_type": "code",
      "metadata": {
        "id": "pFG_tyDiiR-H"
      },
      "source": [
        "feat = np.load(feat_path)\n",
        "filenames = np.load(filename_path)"
      ],
      "execution_count": 6,
      "outputs": []
    },
    {
      "cell_type": "markdown",
      "metadata": {
        "id": "02l0acoFivjP"
      },
      "source": [
        "#### Feature Extraction"
      ]
    },
    {
      "cell_type": "code",
      "metadata": {
        "id": "-Agy8h_mif9_"
      },
      "source": [
        "#transform\n",
        "tfms = transforms.Compose([transforms.Resize(224), transforms.ToTensor(),\n",
        "    transforms.Normalize([0.485, 0.456, 0.406], [0.229, 0.224, 0.225]),])\n",
        "pooling = nn.AdaptiveAvgPool2d(1)\n",
        "\n",
        "def feature_extraction(image, model):\n",
        "    img = tfms(Image.open(image).convert(\"RGB\")).unsqueeze(0)\n",
        "    feature = model.extract_features(img)\n",
        "    features = pooling(feature)\n",
        "    return features"
      ],
      "execution_count": 7,
      "outputs": []
    },
    {
      "cell_type": "code",
      "metadata": {
        "colab": {
          "base_uri": "https://localhost:8080/",
          "height": 121,
          "referenced_widgets": [
            "8d1d35f49a98414494bf54aa599cfb4d",
            "4b46a2b6826b45859b43045d303f4b4e",
            "9d31ae7e3c4a4a6e9b7d00bd1831ec35",
            "b1dd5f06bdb8492e9d426bf1da810914",
            "06bff6d185f84f8abfdf93bea2dccbb3",
            "4ec4e21c9181402da5a418accfb19104",
            "58f6e624e88a4f24a96ca17d9113e251",
            "fd35271ed6dc4331a89e585e1439a59d"
          ]
        },
        "id": "L1GDPgIphSgE",
        "outputId": "01261379-ddf3-42ab-e5b7-6a63dff8aaed"
      },
      "source": [
        "#New\n",
        "model = EfficientNet.from_pretrained('efficientnet-b0')\n",
        "new_data = {}\n",
        "for i, image in enumerate(tqdm(new_data_list[20:21])):\n",
        "  new_feat = feature_extraction(image, model)\n",
        "  new_feat = new_feat.detach().numpy().reshape(-1)\n",
        "  new_data[image] = (new_feat)"
      ],
      "execution_count": 8,
      "outputs": [
        {
          "output_type": "stream",
          "text": [
            "Downloading: \"https://github.com/lukemelas/EfficientNet-PyTorch/releases/download/1.0/efficientnet-b0-355c32eb.pth\" to /root/.cache/torch/hub/checkpoints/efficientnet-b0-355c32eb.pth\n"
          ],
          "name": "stderr"
        },
        {
          "output_type": "display_data",
          "data": {
            "application/vnd.jupyter.widget-view+json": {
              "model_id": "8d1d35f49a98414494bf54aa599cfb4d",
              "version_minor": 0,
              "version_major": 2
            },
            "text/plain": [
              "HBox(children=(FloatProgress(value=0.0, max=21388428.0), HTML(value='')))"
            ]
          },
          "metadata": {
            "tags": []
          }
        },
        {
          "output_type": "stream",
          "text": [
            "\r  0%|          | 0/1 [00:00<?, ?it/s]"
          ],
          "name": "stderr"
        },
        {
          "output_type": "stream",
          "text": [
            "\n",
            "Loaded pretrained weights for efficientnet-b0\n"
          ],
          "name": "stdout"
        },
        {
          "output_type": "stream",
          "text": [
            "100%|██████████| 1/1 [00:00<00:00,  1.49it/s]\n"
          ],
          "name": "stderr"
        }
      ]
    },
    {
      "cell_type": "code",
      "metadata": {
        "id": "pDyi-L3ShmVt"
      },
      "source": [
        "feat = np.append(feat, np.array(list(new_data.values())), axis = 0)\n",
        "filenames = np.append(filenames, np.array(list(new_data.keys())), axis = 0)"
      ],
      "execution_count": 9,
      "outputs": []
    },
    {
      "cell_type": "code",
      "metadata": {
        "colab": {
          "base_uri": "https://localhost:8080/"
        },
        "id": "KwiDCmnNgks_",
        "outputId": "a18dbcff-11a9-44e3-94c4-980777d0adc6"
      },
      "source": [
        "len(feat)"
      ],
      "execution_count": 10,
      "outputs": [
        {
          "output_type": "execute_result",
          "data": {
            "text/plain": [
              "608"
            ]
          },
          "metadata": {
            "tags": []
          },
          "execution_count": 10
        }
      ]
    },
    {
      "cell_type": "markdown",
      "metadata": {
        "id": "3GhOvHdciyzd"
      },
      "source": [
        "#### Dimension Reduction"
      ]
    },
    {
      "cell_type": "code",
      "metadata": {
        "id": "hPGUqBpUiyls"
      },
      "source": [
        "#TSNE\n",
        "from sklearn.manifold import TSNE\n",
        "tsne = TSNE(n_components=2, init='pca', random_state=0)\n",
        "x = tsne.fit_transform(feat)"
      ],
      "execution_count": 11,
      "outputs": []
    },
    {
      "cell_type": "code",
      "metadata": {
        "colab": {
          "base_uri": "https://localhost:8080/"
        },
        "id": "4cf-mPTR6IRG",
        "outputId": "bf907107-2770-43f5-907f-49658fab28a8"
      },
      "source": [
        "len(x)"
      ],
      "execution_count": 12,
      "outputs": [
        {
          "output_type": "execute_result",
          "data": {
            "text/plain": [
              "608"
            ]
          },
          "metadata": {
            "tags": []
          },
          "execution_count": 12
        }
      ]
    },
    {
      "cell_type": "markdown",
      "metadata": {
        "id": "y0Qw7IuYi4-p"
      },
      "source": [
        "#### Nearest Neighbor\n"
      ]
    },
    {
      "cell_type": "code",
      "metadata": {
        "id": "ZUNFBKhicRc6"
      },
      "source": [
        "from sklearn.neighbors import NearestNeighbors\n",
        "knn = NearestNeighbors(n_neighbors=6, algorithm='auto').fit(x)\n",
        "distances, indices = knn.kneighbors([list(x[-1])])"
      ],
      "execution_count": 13,
      "outputs": []
    },
    {
      "cell_type": "code",
      "metadata": {
        "colab": {
          "base_uri": "https://localhost:8080/"
        },
        "id": "QgQjRSsK6gS5",
        "outputId": "a35b1187-e9fc-4d19-aa4e-03384d5c3ea7"
      },
      "source": [
        "indices"
      ],
      "execution_count": 14,
      "outputs": [
        {
          "output_type": "execute_result",
          "data": {
            "text/plain": [
              "array([[607, 423, 467, 459, 439, 429]])"
            ]
          },
          "metadata": {
            "tags": []
          },
          "execution_count": 14
        }
      ]
    },
    {
      "cell_type": "code",
      "metadata": {
        "colab": {
          "base_uri": "https://localhost:8080/"
        },
        "id": "TvLd87Tltb1l",
        "outputId": "c289b7a1-c2e5-4a26-b7d2-e4246ac1c580"
      },
      "source": [
        "for i in indices:\n",
        "  print(x[i])"
      ],
      "execution_count": 15,
      "outputs": [
        {
          "output_type": "stream",
          "text": [
            "[[10.826834  18.016142 ]\n",
            " [11.374312  16.664316 ]\n",
            " [11.102805  16.56445  ]\n",
            " [ 9.2313385 17.835997 ]\n",
            " [ 9.4568205 16.448046 ]\n",
            " [ 8.571018  17.674765 ]]\n"
          ],
          "name": "stdout"
        }
      ]
    },
    {
      "cell_type": "code",
      "metadata": {
        "colab": {
          "base_uri": "https://localhost:8080/",
          "height": 92
        },
        "id": "GgrQQPKSjQh6",
        "outputId": "beb9ef7d-191f-411d-a70e-237a689cf590"
      },
      "source": [
        "import matplotlib.pyplot as plt\n",
        "image = []\n",
        "name = []\n",
        "for idx in indices[0]:\n",
        "  image.append(np.array(Image.open(filenames[idx])))\n",
        "  name.append(filenames[idx].split('/')[-1].split('.')[0])\n",
        "\n",
        "for i, img in enumerate(image):\n",
        "  plt.subplot(1,6,i+1)\n",
        "  plt.title(name[i])\n",
        "  plt.imshow(img, 'gray')\n",
        "\n",
        "plt.tight_layout()\n",
        "plt.show()"
      ],
      "execution_count": 16,
      "outputs": [
        {
          "output_type": "display_data",
          "data": {
            "image/png": "[encoded data removed]",
            "text/plain": [
              "<Figure size 432x288 with 6 Axes>"
            ]
          },
          "metadata": {
            "tags": [],
            "needs_background": "light"
          }
        }
      ]
    }
  ]
}